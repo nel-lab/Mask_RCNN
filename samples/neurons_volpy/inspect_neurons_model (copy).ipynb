{
 "cells": [
  {
   "cell_type": "markdown",
   "metadata": {},
   "source": [
    "# Mask R-CNN - Inspect Neurons Trained Model\n",
    "\n",
    "Code and visualizations to test, debug, and evaluate the Mask R-CNN model."
   ]
  },
  {
   "cell_type": "code",
   "execution_count": 21,
   "metadata": {},
   "outputs": [
    {
     "name": "stdout",
     "output_type": "stream",
     "text": [
      "The autoreload extension is already loaded. To reload it, use:\n",
      "  %reload_ext autoreload\n"
     ]
    }
   ],
   "source": [
    "import os\n",
    "import sys\n",
    "import random\n",
    "import math\n",
    "import re\n",
    "import time\n",
    "import numpy as np\n",
    "import tensorflow as tf\n",
    "import matplotlib\n",
    "matplotlib.rcParams['pdf.fonttype'] = '42'\n",
    "matplotlib.rcParams['ps.fonttype'] = '42'\n",
    "import matplotlib.pyplot as plt\n",
    "import matplotlib.patches as patches\n",
    "try:\n",
    "    if __IPYTHON__:\n",
    "        # this is used for debugging purposes only. allows to reload classes when changed\n",
    "        get_ipython().magic('load_ext autoreload')\n",
    "        get_ipython().magic('autoreload 2')\n",
    "except NameError:\n",
    "    pass\n",
    "\n",
    "# Root directory of the project\n",
    "ROOT_DIR = os.path.abspath(\"/home/nel/Code/VolPy/Mask_RCNN\")\n",
    "\n",
    "# Import Mask RCNN\n",
    "sys.path.append(ROOT_DIR)  # To find local version of the library\n",
    "from mrcnn import utils\n",
    "from mrcnn import visualize\n",
    "from mrcnn.visualize import display_images\n",
    "import mrcnn.model as modellib\n",
    "from mrcnn.model import log\n",
    "\n",
    "from samples.neurons import neurons\n",
    "\n",
    "%matplotlib inline \n",
    "\n",
    "# Directory to save logs and trained model\n",
    "MODEL_DIR = os.path.join(ROOT_DIR, \"logs\")\n",
    "\n",
    "# Path to Ballon trained weights\n",
    "# You can download this file from the Releases page\n",
    "# https://github.com/matterport/Mask_RCNN/releases\n",
    "#NEURONS_WEIGHTS_PATH = MODEL_DIR + \"/neurons20190911T1303/mask_rcnn_neurons_0030.h5\"  # TODO: update this path"
   ]
  },
  {
   "cell_type": "markdown",
   "metadata": {},
   "source": [
    "## Configurations"
   ]
  },
  {
   "cell_type": "code",
   "execution_count": 74,
   "metadata": {},
   "outputs": [],
   "source": [
    "config = neurons.NeuronsConfig()\n",
    "NEURONS_DIR = os.path.join(ROOT_DIR, \"datasets/neurons_3channel_cross1_all\")"
   ]
  },
  {
   "cell_type": "code",
   "execution_count": 75,
   "metadata": {},
   "outputs": [
    {
     "name": "stdout",
     "output_type": "stream",
     "text": [
      "\n",
      "Configurations:\n",
      "BACKBONE                       resnet50\n",
      "BACKBONE_STRIDES               [4, 8, 16, 32, 64]\n",
      "BATCH_SIZE                     1\n",
      "BBOX_STD_DEV                   [0.1 0.1 0.2 0.2]\n",
      "CLASS_THRESHOLD                0.5\n",
      "COMPUTE_BACKBONE_SHAPE         None\n",
      "DETECTION_MAX_INSTANCES        100\n",
      "DETECTION_MIN_CONFIDENCE       0.7\n",
      "DETECTION_NMS_THRESHOLD        0.3\n",
      "FPN_CLASSIF_FC_LAYERS_SIZE     1024\n",
      "GPU_COUNT                      1\n",
      "GRADIENT_CLIP_NORM             5.0\n",
      "IMAGES_PER_GPU                 1\n",
      "IMAGE_CHANNEL_COUNT            3\n",
      "IMAGE_MAX_DIM                  512\n",
      "IMAGE_META_SIZE                14\n",
      "IMAGE_MIN_DIM                  128\n",
      "IMAGE_MIN_SCALE                0\n",
      "IMAGE_RESIZE_MODE              pad64\n",
      "IMAGE_SHAPE                    [512 512   3]\n",
      "LEARNING_MOMENTUM              0.9\n",
      "LEARNING_RATE                  0.001\n",
      "LOSS_WEIGHTS                   {'rpn_class_loss': 1.0, 'rpn_bbox_loss': 1.0, 'mrcnn_class_loss': 1.0, 'mrcnn_bbox_loss': 1.0, 'mrcnn_mask_loss': 1.0}\n",
      "MASK_POOL_SIZE                 14\n",
      "MASK_SHAPE                     [28, 28]\n",
      "MAX_GT_INSTANCES               100\n",
      "MEAN_PIXEL                     [0 0 0]\n",
      "MINI_MASK_SHAPE                (56, 56)\n",
      "NAME                           neurons\n",
      "NUM_CLASSES                    2\n",
      "POOL_SIZE                      7\n",
      "POST_NMS_ROIS_INFERENCE        1000\n",
      "POST_NMS_ROIS_TRAINING         1000\n",
      "PRE_NMS_LIMIT                  6000\n",
      "ROI_POSITIVE_RATIO             0.33\n",
      "RPN_ANCHOR_RATIOS              [0.5, 1, 2]\n",
      "RPN_ANCHOR_SCALES              (16, 32, 64, 128, 256)\n",
      "RPN_ANCHOR_STRIDE              1\n",
      "RPN_BBOX_STD_DEV               [0.1 0.1 0.2 0.2]\n",
      "RPN_NMS_THRESHOLD              0.7\n",
      "RPN_TRAIN_ANCHORS_PER_IMAGE    64\n",
      "STEPS_PER_EPOCH                100\n",
      "TOP_DOWN_PYRAMID_SIZE          256\n",
      "TRAIN_BN                       False\n",
      "TRAIN_ROIS_PER_IMAGE           128\n",
      "USE_MINI_MASK                  True\n",
      "USE_RPN_ROIS                   True\n",
      "VALIDATION_STEPS               50\n",
      "WEIGHT_DECAY                   0.0001\n",
      "\n",
      "\n"
     ]
    }
   ],
   "source": [
    "# Override the training configurations with a few\n",
    "# changes for inferencing.\n",
    "class InferenceConfig(config.__class__):\n",
    "    # Run detection on one image at a time\n",
    "    GPU_COUNT = 1\n",
    "    IMAGES_PER_GPU = 1\n",
    "    DETECTION_MIN_CONFIDENCE = 0.7\n",
    "    IMAGE_RESIZE_MODE = \"pad64\"\n",
    "    IMAGE_MAX_DIM=512\n",
    "    #CLASS_THRESHOLD = 0.33\n",
    "    #RPN_NMS_THRESHOLD = 0.7\n",
    "    #DETECTION_NMS_THRESHOLD = 0.3\n",
    "    #IMAGE_SHAPE=[512, 128,3]\n",
    "    RPN_NMS_THRESHOLD = 0.7\n",
    "    #TRAIN_ROIS_PER_IMAGE = 1000\n",
    "    POST_NMS_ROIS_INFERENCE = 1000\n",
    "\n",
    "config = InferenceConfig()\n",
    "config.display()"
   ]
  },
  {
   "cell_type": "markdown",
   "metadata": {},
   "source": [
    "## Notebook Preferences"
   ]
  },
  {
   "cell_type": "code",
   "execution_count": 76,
   "metadata": {},
   "outputs": [],
   "source": [
    "# Device to load the neural network on.\n",
    "# Useful if you're training a model on the same \n",
    "# machine, in which case use CPU and leave the\n",
    "# GPU for training.\n",
    "DEVICE = \"/cpu:0\"  # /cpu:0 or /gpu:0\n",
    "\n",
    "# Inspect the model in training or inference modes\n",
    "# values: 'inference' or 'training'\n",
    "# TODO: code for 'training' test mode not ready yet\n",
    "TEST_MODE = \"inference\""
   ]
  },
  {
   "cell_type": "code",
   "execution_count": 77,
   "metadata": {},
   "outputs": [],
   "source": [
    "def get_ax(rows=1, cols=1, size=16):\n",
    "    \"\"\"Return a Matplotlib Axes array to be used in\n",
    "    all visualizations in the notebook. Provide a\n",
    "    central point to control graph sizes.\n",
    "    \n",
    "    Adjust the size attribute to control how big to render images\n",
    "    \"\"\"\n",
    "    _, ax = plt.subplots(rows, cols, figsize=(size*cols, size*rows))\n",
    "    return ax"
   ]
  },
  {
   "cell_type": "markdown",
   "metadata": {},
   "source": [
    "## Load Validation Dataset"
   ]
  },
  {
   "cell_type": "code",
   "execution_count": 78,
   "metadata": {},
   "outputs": [
    {
     "name": "stdout",
     "output_type": "stream",
     "text": [
      "/home/nel/Code/VolPy/Mask_RCNN/datasets/neurons_3channel_cross1_all/val/06152017Fish1-2.npz\n",
      "/home/nel/Code/VolPy/Mask_RCNN/datasets/neurons_3channel_cross1_all/val/403106_3min.npz\n",
      "/home/nel/Code/VolPy/Mask_RCNN/datasets/neurons_3channel_cross1_all/val/FOV3_35um.npz\n",
      "/home/nel/Code/VolPy/Mask_RCNN/datasets/neurons_3channel_cross1_all/val/FOV4_50um.npz\n",
      "/home/nel/Code/VolPy/Mask_RCNN/datasets/neurons_3channel_cross1_all/val/IVQ29_S5_FOV4.npz\n",
      "/home/nel/Code/VolPy/Mask_RCNN/datasets/neurons_3channel_cross1_all/val/IVQ48_S7_FOV5.npz\n",
      "/home/nel/Code/VolPy/Mask_RCNN/datasets/neurons_3channel_cross1_all/val/IVQ48_S7_FOV7.npz\n",
      "/home/nel/Code/VolPy/Mask_RCNN/datasets/neurons_3channel_cross1_all/val/IVQ48_S7_FOV8.npz\n",
      "Images: 8\n",
      "Classes: ['BG', 'neurons']\n"
     ]
    }
   ],
   "source": [
    "# Load validation dataset\n",
    "dataset = neurons.NeuronsDataset()\n",
    "dataset.load_neurons(NEURONS_DIR, \"val\")\n",
    "\n",
    "# Must call before using the dataset\n",
    "dataset.prepare()\n",
    "\n",
    "print(\"Images: {}\\nClasses: {}\".format(len(dataset.image_ids), dataset.class_names))"
   ]
  },
  {
   "cell_type": "markdown",
   "metadata": {},
   "source": [
    "## Load Model"
   ]
  },
  {
   "cell_type": "code",
   "execution_count": 79,
   "metadata": {},
   "outputs": [],
   "source": [
    "# Create model in inference mode\n",
    "with tf.device(DEVICE):\n",
    "    model = modellib.MaskRCNN(mode=\"inference\", model_dir=MODEL_DIR,\n",
    "                              config=config)"
   ]
  },
  {
   "cell_type": "code",
   "execution_count": 80,
   "metadata": {
    "scrolled": false
   },
   "outputs": [
    {
     "name": "stdout",
     "output_type": "stream",
     "text": [
      "Loading weights  /home/nel/Code/VolPy/Mask_RCNN/logs/neurons20191204T2307/mask_rcnn_neurons_0040.h5\n",
      "Re-starting from epoch 40\n"
     ]
    }
   ],
   "source": [
    "# Set path to balloon weights file\n",
    "\n",
    "# Download file from the Releases page and set its path\n",
    "# https://github.com/matterport/Mask_RCNN/releases\n",
    "# weights_path = \"/path/to/mask_rcnn_balloon.h5\"\n",
    "\n",
    "# Or, load the last model you trained\n",
    "weights_path = model.find_last()\n",
    "#weights_path = MODEL_DIR + \"/neurons20191203T1603/mask_rcnn_neurons_0035.h5\"\n",
    "#weights_path = MODEL_DIR + \"/neurons20191203T1330/mask_rcnn_neurons_0045.h5\"\n",
    "#weights_path = MODEL_DIR + \"/neurons20191203T1748/mask_rcnn_neurons_0040.h5\"\n",
    "#weights_path = MODEL_DIR + \"/neurons20191204T1134/mask_rcnn_neurons_0040.h5\"\n",
    "#weights_path = MODEL_DIR + \"/neurons20191204T1315/mask_rcnn_neurons_0040.h5\"\n",
    "#weights_path = MODEL_DIR + \"/neurons20191204T1346/mask_rcnn_neurons_0040.h5\"\n",
    "#weights_path = MODEL_DIR + \"/neurons20191205T0021/mask_rcnn_neurons_0040.h5\"\n",
    "weights_path = MODEL_DIR + \"/neurons20191204T2351/mask_rcnn_neurons_0040.h5\"\n",
    "weights_path = MODEL_DIR + \"/neurons20191204T2307/mask_rcnn_neurons_0040.h5\"\n",
    "\n",
    "# Load weights\n",
    "print(\"Loading weights \", weights_path)\n",
    "model.load_weights(weights_path, by_name=True)"
   ]
  },
  {
   "cell_type": "markdown",
   "metadata": {},
   "source": [
    "## Run Detection"
   ]
  },
  {
   "cell_type": "code",
   "execution_count": 81,
   "metadata": {},
   "outputs": [
    {
     "name": "stdout",
     "output_type": "stream",
     "text": [
      "/home/nel/Code/VolPy/Mask_RCNN/datasets/neurons_3channel_cross1_all/val/06152017Fish1-2.npz\n",
      "/home/nel/Code/VolPy/Mask_RCNN/datasets/neurons_3channel_cross1_all/val/403106_3min.npz\n",
      "/home/nel/Code/VolPy/Mask_RCNN/datasets/neurons_3channel_cross1_all/val/FOV3_35um.npz\n",
      "/home/nel/Code/VolPy/Mask_RCNN/datasets/neurons_3channel_cross1_all/val/FOV4_50um.npz\n",
      "/home/nel/Code/VolPy/Mask_RCNN/datasets/neurons_3channel_cross1_all/val/IVQ29_S5_FOV4.npz\n",
      "/home/nel/Code/VolPy/Mask_RCNN/datasets/neurons_3channel_cross1_all/val/IVQ48_S7_FOV5.npz\n",
      "/home/nel/Code/VolPy/Mask_RCNN/datasets/neurons_3channel_cross1_all/val/IVQ48_S7_FOV7.npz\n",
      "/home/nel/Code/VolPy/Mask_RCNN/datasets/neurons_3channel_cross1_all/val/IVQ48_S7_FOV8.npz\n",
      "make folder\n"
     ]
    }
   ],
   "source": [
    "prop = 'val'\n",
    "dataset = neurons.NeuronsDataset()\n",
    "dataset.load_neurons(NEURONS_DIR, prop)\n",
    "\n",
    "# Must call before using the dataset\n",
    "dataset.prepare()\n",
    "\n",
    "import os \n",
    "folder = '/home/nel/Code/VolPy/Paper/'+os.path.split(os.path.split(weights_path)[0])[-1]+'/'+prop+'/'\n",
    "try:\n",
    "    os.makedirs(folder)\n",
    "    print('make folder')\n",
    "except:\n",
    "    print('already exist')\n"
   ]
  },
  {
   "cell_type": "code",
   "execution_count": 58,
   "metadata": {},
   "outputs": [
    {
     "data": {
      "text/plain": [
       "'/home/nel/Code/VolPy/Paper/neurons20191204T2351/train/'"
      ]
     },
     "execution_count": 58,
     "metadata": {},
     "output_type": "execute_result"
    }
   ],
   "source": [
    "folder"
   ]
  },
  {
   "cell_type": "code",
   "execution_count": 29,
   "metadata": {},
   "outputs": [
    {
     "name": "stdout",
     "output_type": "stream",
     "text": [
      "Using matplotlib backend: Qt5Agg\n"
     ]
    }
   ],
   "source": [
    "%matplotlib auto"
   ]
  },
  {
   "cell_type": "code",
   "execution_count": 18,
   "metadata": {
    "scrolled": true
   },
   "outputs": [
    {
     "name": "stdout",
     "output_type": "stream",
     "text": [
      "image ID: neurons.06152017Fish1-2.npz (0) /home/nel/Code/VolPy/Mask_RCNN/datasets/neurons_3channel_cross3_all/train/06152017Fish1-2.npz\n",
      "Processing 1 images\n",
      "image                    shape: (384, 320, 3)         min:   -3.29693  max:   13.05967  float32\n",
      "molded_images            shape: (1, 384, 320, 3)      min:   -3.29693  max:   13.05967  float64\n",
      "image_metas              shape: (1, 14)               min:    0.00000  max:  384.00000  int64\n",
      "anchors                  shape: (1, 30690, 4)         min:   -0.56746  max:    1.36683  float32\n",
      "gt_class_id              shape: (33,)                 min:    1.00000  max:    1.00000  int32\n",
      "gt_bbox                  shape: (33, 4)               min:   10.00000  max:  372.00000  int32\n",
      "gt_mask                  shape: (384, 320, 33)        min:    0.00000  max:    1.00000  bool\n"
     ]
    }
   ],
   "source": [
    "image_id = random.choice(dataset.image_ids)\n",
    "image_id = 0\n",
    "image, image_meta, gt_class_id, gt_bbox, gt_mask =\\\n",
    "    modellib.load_image_gt(dataset, config, image_id, use_mini_mask=False)\n",
    "info = dataset.image_info[image_id]\n",
    "print(\"image ID: {}.{} ({}) {}\".format(info[\"source\"], info[\"id\"], image_id, \n",
    "                                       dataset.image_reference(image_id)))\n",
    "\n",
    "# Run object detection\n",
    "\n",
    "results = model.detect([image], verbose=1)\n",
    "\n",
    "# Display results\n",
    "ax = get_ax(1)\n",
    "r = results[0]\n",
    "visualize.display_instances(image, r['rois'], r['masks'], r['class_ids'], \n",
    "                            dataset.class_names, r['scores'], ax=ax,\n",
    "                            title=\"Predictions\")\n",
    "log(\"gt_class_id\", gt_class_id)\n",
    "log(\"gt_bbox\", gt_bbox)\n",
    "log(\"gt_mask\", gt_mask)"
   ]
  },
  {
   "cell_type": "code",
   "execution_count": 84,
   "metadata": {},
   "outputs": [
    {
     "name": "stdout",
     "output_type": "stream",
     "text": [
      "image ID: neurons.06152017Fish1-2.npz (0) /home/nel/Code/VolPy/Mask_RCNN/datasets/neurons_3channel_cross1_all/val/06152017Fish1-2.npz\n",
      "Processing 1 images\n",
      "image                    shape: (384, 320, 3)         min:   -3.29693  max:   13.05967  float32\n",
      "molded_images            shape: (1, 384, 320, 3)      min:   -3.29693  max:   13.05967  float64\n",
      "image_metas              shape: (1, 14)               min:    0.00000  max:  384.00000  int64\n",
      "anchors                  shape: (1, 30690, 4)         min:   -0.56746  max:    1.36683  float32\n",
      "image ID: neurons.403106_3min.npz (1) /home/nel/Code/VolPy/Mask_RCNN/datasets/neurons_3channel_cross1_all/val/403106_3min.npz\n",
      "Processing 1 images\n",
      "image                    shape: (512, 128, 3)         min:   -1.59008  max:    8.88643  float32\n",
      "molded_images            shape: (1, 512, 128, 3)      min:   -1.59008  max:    8.88643  float64\n",
      "image_metas              shape: (1, 14)               min:    0.00000  max:  512.00000  int64\n",
      "anchors                  shape: (1, 16368, 4)         min:   -1.42535  max:    1.92141  float32\n",
      "image ID: neurons.FOV3_35um.npz (2) /home/nel/Code/VolPy/Mask_RCNN/datasets/neurons_3channel_cross1_all/val/FOV3_35um.npz\n",
      "Processing 1 images\n",
      "image                    shape: (512, 128, 3)         min:   -2.06476  max:   14.02532  float32\n",
      "molded_images            shape: (1, 512, 128, 3)      min:   -2.06476  max:   14.02532  float64\n",
      "image_metas              shape: (1, 14)               min:    0.00000  max:  512.00000  int64\n",
      "anchors                  shape: (1, 16368, 4)         min:   -1.42535  max:    1.92141  float32\n",
      "image ID: neurons.FOV4_50um.npz (3) /home/nel/Code/VolPy/Mask_RCNN/datasets/neurons_3channel_cross1_all/val/FOV4_50um.npz\n",
      "Processing 1 images\n",
      "image                    shape: (512, 128, 3)         min:   -1.28426  max:    9.77560  float32\n",
      "molded_images            shape: (1, 512, 128, 3)      min:   -1.28426  max:    9.77560  float64\n",
      "image_metas              shape: (1, 14)               min:    0.00000  max:  512.00000  int64\n",
      "anchors                  shape: (1, 16368, 4)         min:   -1.42535  max:    1.92141  float32\n",
      "image ID: neurons.IVQ29_S5_FOV4.npz (4) /home/nel/Code/VolPy/Mask_RCNN/datasets/neurons_3channel_cross1_all/val/IVQ29_S5_FOV4.npz\n",
      "Processing 1 images\n",
      "image                    shape: (256, 128, 3)         min:   -1.47369  max:    7.79661  float32\n",
      "molded_images            shape: (1, 256, 128, 3)      min:   -1.47369  max:    7.79661  float64\n",
      "image_metas              shape: (1, 14)               min:    0.00000  max:  256.00000  int64\n",
      "anchors                  shape: (1, 8184, 4)          min:   -1.42535  max:    1.92141  float32\n",
      "image ID: neurons.IVQ48_S7_FOV5.npz (5) /home/nel/Code/VolPy/Mask_RCNN/datasets/neurons_3channel_cross1_all/val/IVQ48_S7_FOV5.npz\n",
      "Processing 1 images\n",
      "image                    shape: (320, 128, 3)         min:   -1.60053  max:    7.77528  float32\n",
      "molded_images            shape: (1, 320, 128, 3)      min:   -1.60053  max:    7.77528  float64\n",
      "image_metas              shape: (1, 14)               min:    0.00000  max:  320.00000  int64\n",
      "anchors                  shape: (1, 10230, 4)         min:   -1.42535  max:    1.92141  float32\n",
      "image ID: neurons.IVQ48_S7_FOV7.npz (6) /home/nel/Code/VolPy/Mask_RCNN/datasets/neurons_3channel_cross1_all/val/IVQ48_S7_FOV7.npz\n",
      "Processing 1 images\n",
      "image                    shape: (384, 128, 3)         min:   -2.13503  max:    9.17586  float32\n",
      "molded_images            shape: (1, 384, 128, 3)      min:   -2.13503  max:    9.17586  float64\n",
      "image_metas              shape: (1, 14)               min:    0.00000  max:  384.00000  int64\n",
      "anchors                  shape: (1, 12276, 4)         min:   -1.42535  max:    1.92141  float32\n",
      "image ID: neurons.IVQ48_S7_FOV8.npz (7) /home/nel/Code/VolPy/Mask_RCNN/datasets/neurons_3channel_cross1_all/val/IVQ48_S7_FOV8.npz\n",
      "Processing 1 images\n",
      "image                    shape: (384, 128, 3)         min:   -2.14406  max:   10.95018  float32\n",
      "molded_images            shape: (1, 384, 128, 3)      min:   -2.14406  max:   10.95018  float64\n",
      "image_metas              shape: (1, 14)               min:    0.00000  max:  384.00000  int64\n",
      "anchors                  shape: (1, 12276, 4)         min:   -1.42535  max:    1.92141  float32\n"
     ]
    }
   ],
   "source": [
    "from caiman.base.rois import nf_match_neurons_in_binary_masks\n",
    "performance=[]\n",
    "F1 = {}\n",
    "recall = {}\n",
    "precision = {}\n",
    "for image_id in dataset.image_ids:\n",
    "    image, image_meta, gt_class_id, gt_bbox, gt_mask =\\\n",
    "        modellib.load_image_gt(dataset, config, image_id, use_mini_mask=False)\n",
    "    info = dataset.image_info[image_id]\n",
    "    print(\"image ID: {}.{} ({}) {}\".format(info[\"source\"], info[\"id\"], image_id, \n",
    "                                           dataset.image_reference(image_id)))\n",
    "    \n",
    "    # Run object detection    \n",
    "    results = model.detect([image], verbose=1)\n",
    "    \n",
    "    # Display results\n",
    "    _, ax = plt.subplots(1,1, figsize=(16,16))\n",
    "    r = results[0]\n",
    "    display_result = True\n",
    "    if display_result:  \n",
    "        visualize.display_instances(image, r['rois'], r['masks'], r['class_ids'], \n",
    "                                    dataset.class_names, r['scores'], ax=ax,\n",
    "                                    title=\"Predictions\")\n",
    "        #plt.savefig(folder +dataset.image_info[image_id]['id'][:-4]+'_mrcnn_result.pdf')\n",
    "        plt.close()\n",
    "    \n",
    "    mask_pr = r['masks'].copy().transpose([2,0,1])*1.\n",
    "    mask_gt = gt_mask.copy().transpose([2,0,1])*1.\n",
    "    \n",
    "    tp_gt, tp_comp, fn_gt, fp_comp, performance_cons_off = nf_match_neurons_in_binary_masks(\n",
    "            mask_gt, mask_pr, thresh_cost=0.7, min_dist=10, print_assignment=True,\n",
    "            plot_results=True, Cn=image[:,:,0], labels=['GT', 'MRCNN'])\n",
    "    #plt.savefig(folder +dataset.image_info[image_id]['id'][:-4]+'_compare.pdf')\n",
    "    plt.close()\n",
    "    performance.append(performance_cons_off)\n",
    "    F1[dataset.image_info[image_id]['id'][:-4]] = performance_cons_off['f1_score']\n",
    "    recall[dataset.image_info[image_id]['id'][:-4]] = performance_cons_off['recall']\n",
    "    precision[dataset.image_info[image_id]['id'][:-4]] = performance_cons_off['precision']"
   ]
  },
  {
   "cell_type": "code",
   "execution_count": 22,
   "metadata": {},
   "outputs": [
    {
     "data": {
      "text/plain": [
       "[0.7924528301886793,\n",
       " 0.7010309278350515,\n",
       " 0.8785046728971962,\n",
       " 0.8888888888888888,\n",
       " 0.8976377952755905,\n",
       " 0.9761904761904762,\n",
       " 0.9032258064516129,\n",
       " 0.8484848484848485,\n",
       " 0.5,\n",
       " 0.47058823529411764,\n",
       " 0.8,\n",
       " 0.8,\n",
       " 0.7692307692307693,\n",
       " 0.7692307692307693,\n",
       " 0.46153846153846156,\n",
       " 0.4]"
      ]
     },
     "execution_count": 22,
     "metadata": {},
     "output_type": "execute_result"
    }
   ],
   "source": [
    "ss = [performance[i]['f1_score'] for i in range(len(performance))]\n",
    "[performance[i]['f1_score'] for i in range(len(performance))]"
   ]
  },
  {
   "cell_type": "code",
   "execution_count": 73,
   "metadata": {},
   "outputs": [
    {
     "data": {
      "text/plain": [
       "{'06152017Fish1-2': 0.6984126984126984,\n",
       " '403106_3min': 0.8695652173913043,\n",
       " 'FOV3_35um': 0.9009009009009009,\n",
       " 'FOV4_50um': 0.9696969696969697,\n",
       " 'IVQ29_S5_FOV4': 0.2857142857142857,\n",
       " 'IVQ48_S7_FOV5': 0.5,\n",
       " 'IVQ48_S7_FOV7': 0.4,\n",
       " 'IVQ48_S7_FOV8': 0.3333333333333333}"
      ]
     },
     "execution_count": 73,
     "metadata": {},
     "output_type": "execute_result"
    }
   ],
   "source": [
    "dict1_val"
   ]
  },
  {
   "cell_type": "code",
   "execution_count": 25,
   "metadata": {},
   "outputs": [
    {
     "name": "stdout",
     "output_type": "stream",
     "text": [
      "Ahrens 0.7467418790118654\n",
      "Svoboda 0.8988220813647688\n",
      "Cohen 0.6213235294117647\n"
     ]
    }
   ],
   "source": [
    "# train\n",
    "print('Ahrens',sum(ss[:2])/2)\n",
    "print('Svoboda',sum(ss[2:8])/6)\n",
    "print('Cohen',sum(ss[8:])/len(ss[8:]))"
   ]
  },
  {
   "cell_type": "code",
   "execution_count": 24,
   "metadata": {
    "scrolled": true
   },
   "outputs": [
    {
     "name": "stdout",
     "output_type": "stream",
     "text": [
      "Ahrens 0.7924528301886793\n",
      "Svoboda 0.8228081632070455\n",
      "Cohen 0.7163439301413872\n"
     ]
    }
   ],
   "source": [
    "# val\n",
    "print('Ahrens',sum(ss[:1])/len(ss[:1]))\n",
    "print('Svoboda',sum(ss[1:4])/len(ss[1:4]))\n",
    "print('Cohen',sum(ss[4:])/len(ss[4:]))\n"
   ]
  },
  {
   "cell_type": "code",
   "execution_count": 41,
   "metadata": {},
   "outputs": [
    {
     "name": "stdout",
     "output_type": "stream",
     "text": [
      "Ahrens 0.75\n",
      "Svoboda 0.8604641049968373\n",
      "Cohen 0.3472222222222222\n"
     ]
    }
   ],
   "source": [
    "# val\n",
    "print('Ahrens',sum(ss[:1])/len(ss[:1]))\n",
    "print('Svoboda',sum(ss[1:4])/len(ss[1:4]))\n",
    "print('Cohen',sum(ss[4:])/len(ss[4:]))\n"
   ]
  },
  {
   "cell_type": "code",
   "execution_count": 88,
   "metadata": {},
   "outputs": [
    {
     "data": {
      "text/plain": [
       "{'06152017Fish1-2': 0.7333333333333333,\n",
       " '403106_3min': 0.9090909090909091,\n",
       " 'FOV3_35um': 0.9259259259259259,\n",
       " 'FOV4_50um': 1.0,\n",
       " 'IVQ29_S5_FOV4': 0.2,\n",
       " 'IVQ48_S7_FOV5': 0.375,\n",
       " 'IVQ48_S7_FOV7': 0.25,\n",
       " 'IVQ48_S7_FOV8': 0.2222222222222222}"
      ]
     },
     "execution_count": 88,
     "metadata": {},
     "output_type": "execute_result"
    }
   ],
   "source": [
    "precision"
   ]
  },
  {
   "cell_type": "code",
   "execution_count": 20,
   "metadata": {},
   "outputs": [
    {
     "name": "stdout",
     "output_type": "stream",
     "text": [
      "image ID: neurons.403106_3min.npz (2) /home/nel/Code/VolPy/Mask_RCNN/datasets/neurons/train/403106_3min.npz\n",
      "Processing 1 images\n",
      "image                    shape: (512, 128, 3)         min:   -1.59008  max:    8.88643  float32\n",
      "molded_images            shape: (1, 512, 128, 3)      min: -125.29008  max:  -95.01357  float64\n",
      "image_metas              shape: (1, 14)               min:    0.00000  max:  512.00000  int64\n",
      "anchors                  shape: (1, 16368, 4)         min:   -2.85070  max:    3.34676  float32\n",
      "[0.9868421052631579, 0.9891304347826086, 0.9896907216494846, 0.9880952380952381, 0.99, 0.9859154929577465, 0.9888888888888889, 0.9894736842105263, 0.9876543209876543, 0.9879518072289156, 0.9864864864864865, 1.0, 0.9922480620155039, 0.9887640449438202, 0.9893617021276596, 0.9859154929577465, 1.0, 0.9886363636363636, 1.0, 0.9902912621359223, 0.9910714285714286, 1.0, 0.9900990099009901, 0.9926470588235294, 0.9910714285714286, 0.9923664122137404, 1.0, 0.9940119760479041, 0.9922480620155039, 0.9900990099009901, 1.0, 0.9935483870967742, 0.9943820224719101, 0.9887640449438202, 0.9902912621359223, 0.9836065573770492, 0.9864864864864865, 0.9863013698630136, 0.9859154929577465, 0.9893617021276596, 0.9859154929577465, 0.9838709677419355, 0.9827586206896551, 0.987012987012987, 0.9923076923076923, 0.9861111111111112, 0.9866666666666667, 0.9901960784313726, 0.9917355371900827, 0.9875, 0.9903846153846154, 0.9879518072289156, 0.987012987012987, 0.9821428571428571, 0.987012987012987, 0.989247311827957, 0.9887640449438202, 0.984375, 0.9908256880733946, 0.9868421052631579, 0.98989898989899, 0.9915254237288136, 0.9946236559139785, 0.9955555555555555, 0.9918032786885246, 0.9956709956709957, 0.9900990099009901]\n"
     ]
    }
   ],
   "source": [
    "\n",
    "image_id = 2\n",
    "image, image_meta, gt_class_id, gt_bbox, gt_mask =\\\n",
    "    modellib.load_image_gt(dataset, config, image_id, use_mini_mask=False)\n",
    "info = dataset.image_info[image_id]\n",
    "print(\"image ID: {}.{} ({}) {}\".format(info[\"source\"], info[\"id\"], image_id, \n",
    "                                       dataset.image_reference(image_id)))\n",
    "\n",
    "# Run object detection    \n",
    "results = model.detect([image], verbose=1)\n",
    "\n",
    "# Display results\n",
    "_, ax = plt.subplots(1,1, figsize=(16,16))\n",
    "r = results[0]\n",
    "display_result = True\n",
    "if display_result:  \n",
    "    visualize.display_instances(image, r['rois'], r['masks'], r['class_ids'], \n",
    "                                dataset.class_names, r['scores'], ax=ax,\n",
    "                                title=\"Predictions\")\n",
    "plt.savefig(folder +dataset.image_info[image_id]['id'][:-4]+'_mrcnn_result.pdf')\n",
    "plt.close()\n",
    "\n",
    "mask_pr = r['masks'].transpose([2,0,1])\n",
    "mask_gt = gt_mask.transpose([2,0,1])\n",
    "\n",
    "tp_gt, tp_comp, fn_gt, fp_comp, performance_cons_off = nf_match_neurons_in_binary_masks(\n",
    "        mask_gt, mask_pr, thresh_cost=0.99, min_dist=10, print_assignment=True,\n",
    "        plot_results=True, Cn=image[:,:,0], labels=['GT', 'MRCNN'])\n",
    "plt.savefig(folder +dataset.image_info[image_id]['id'][:-4]+'_compare.pdf')\n",
    "plt.close()\n",
    "performance.append(performance_cons_off)"
   ]
  },
  {
   "cell_type": "code",
   "execution_count": 30,
   "metadata": {},
   "outputs": [
    {
     "data": {
      "text/plain": [
       "array([ 0,  1,  2,  3,  5,  6,  7,  8,  9, 10, 13, 14, 15, 17, 40, 44, 46,\n",
       "       47, 48, 49, 50, 51, 52, 54, 57, 58, 63, 66, 67, 68, 69, 70, 71, 72,\n",
       "       74, 76])"
      ]
     },
     "execution_count": 30,
     "metadata": {},
     "output_type": "execute_result"
    }
   ],
   "source": [
    "tp_gt"
   ]
  },
  {
   "cell_type": "code",
   "execution_count": 17,
   "metadata": {},
   "outputs": [
    {
     "name": "stdout",
     "output_type": "stream",
     "text": [
      "Loading weights  /home/nel/Code/VolPy/Mask_RCNN/logs/neurons20191008T1658/mask_rcnn_neurons_0075.h5\n",
      "Re-starting from epoch 75\n",
      "image ID: neurons.06152017Fish1-2.npz (0) /home/nel/Code/VolPy/Mask_RCNN/datasets/neurons/val/06152017Fish1-2.npz\n",
      "Processing 1 images\n",
      "image                    shape: (384, 320, 3)         min:   -0.59297  max:   13.05967  float64\n",
      "molded_images            shape: (1, 384, 320, 3)      min: -124.29297  max:  -90.84033  float64\n",
      "image_metas              shape: (1, 14)               min:    0.00000  max:  384.00000  int64\n",
      "anchors                  shape: (1, 30690, 4)         min:   -1.13492  max:    1.93429  float32\n",
      "[0.997979797979798, 0.9976580796252927, 0.9976019184652278, 0.9969879518072289, 1.0, 0.9976689976689976, 1.0, 0.99812734082397, 0.9977477477477478, 0.9981818181818182, 0.9970845481049563, 0.9980506822612085, 1.0, 0.9972527472527473, 1.0, 1.0, 0.9978354978354979, 0.9982425307557118, 1.0, 1.0, 0.9974489795918368, 0.9971264367816092, 0.9981949458483754, 0.9970674486803519, 0.9970501474926253, 0.9971830985915493, 0.9965034965034965, 0.9981343283582089, 0.996969696969697, 1.0, 0.9948186528497409]\n",
      "image ID: neurons.FOV3_35um.npz (1) /home/nel/Code/VolPy/Mask_RCNN/datasets/neurons/val/FOV3_35um.npz\n",
      "Processing 1 images\n",
      "image                    shape: (512, 128, 3)         min:   -1.49630  max:   11.27281  float64\n",
      "molded_images            shape: (1, 512, 128, 3)      min: -125.19630  max:  -92.62719  float64\n",
      "image_metas              shape: (1, 14)               min:    0.00000  max:  512.00000  int64\n",
      "anchors                  shape: (1, 16368, 4)         min:   -2.85070  max:    3.34676  float32\n",
      "[0.991869918699187, 0.9923664122137404, 0.9902912621359223, 0.9936708860759493, 0.9908256880733946, 0.99, 1.0, 0.9940119760479041, 0.9875, 0.9935064935064936, 0.9926470588235294, 0.9939759036144579, 0.9965034965034965, 0.9924812030075187, 0.99375, 1.0, 1.0, 0.9911504424778761, 0.9931972789115646, 1.0, 0.9935064935064936, 0.9908256880733946, 0.9888888888888889, 0.9893617021276596, 0.9888888888888889, 0.9897959183673469, 0.9880952380952381, 0.9888888888888889, 0.9912280701754386, 0.9895833333333334, 0.9924242424242424, 0.9891304347826086, 0.990909090909091, 0.993421052631579, 0.9929577464788732, 0.990990990990991, 0.9896907216494846, 0.9912280701754386, 1.0, 1.0, 1.0, 0.9945945945945946, 0.9957081545064378, 0.9985380116959064, 0.9952380952380953, 0.9939759036144579, 0.9949238578680203, 0.9961389961389961, 0.9952830188679245, 0.9948186528497409, 1.0, 1.0, 1.0, 1.0, 1.0, 0.9927536231884058, 1.0]\n",
      "image ID: neurons.FOV4_50um.npz (2) /home/nel/Code/VolPy/Mask_RCNN/datasets/neurons/val/FOV4_50um.npz\n",
      "Processing 1 images\n",
      "image                    shape: (512, 128, 3)         min:   -1.28426  max:    7.54065  float64\n",
      "molded_images            shape: (1, 512, 128, 3)      min: -124.98426  max:  -96.35935  float64\n",
      "image_metas              shape: (1, 14)               min:    0.00000  max:  512.00000  int64\n",
      "anchors                  shape: (1, 16368, 4)         min:   -2.85070  max:    3.34676  float32\n",
      "[0.9925925925925926, 0.9934640522875817, 0.9944444444444445, 0.9906542056074766, 0.9921875, 0.9878048780487805, 0.9926470588235294, 0.9935483870967742, 0.9921259842519685, 1.0, 0.9912280701754386, 0.9918032786885246, 0.9896907216494846, 0.9868421052631579, 0.9873417721518988, 0.9897959183673469, 0.9922480620155039, 0.9917355371900827, 0.9908256880733946, 0.9878048780487805, 0.9895833333333334, 0.98989898989899, 0.98989898989899, 0.9947089947089947, 0.990909090909091, 0.9935064935064936, 0.9886363636363636, 0.991869918699187, 0.9915254237288136, 0.9924812030075187, 0.9939393939393939, 0.9944444444444445, 0.9948717948717949, 0.9948453608247423]\n",
      "image ID: neurons.IVQ48_S7_FOV5.npz (3) /home/nel/Code/VolPy/Mask_RCNN/datasets/neurons/val/IVQ48_S7_FOV5.npz\n",
      "Processing 1 images\n",
      "image                    shape: (320, 128, 3)         min:   -1.60053  max:    2.87193  float64\n",
      "molded_images            shape: (1, 320, 128, 3)      min: -125.30053  max: -101.02807  float64\n",
      "image_metas              shape: (1, 14)               min:    0.00000  max:  320.00000  int64\n",
      "anchors                  shape: (1, 10230, 4)         min:   -2.85070  max:    3.34676  float32\n",
      "[0.9991356957649092, 1.0, 0.9990366088631984, 0.9984251968503937]\n",
      "image ID: neurons.IVQ48_S7_FOV7.npz (4) /home/nel/Code/VolPy/Mask_RCNN/datasets/neurons/val/IVQ48_S7_FOV7.npz\n",
      "Processing 1 images\n",
      "image                    shape: (384, 128, 3)         min:   -2.13503  max:    2.43918  float64\n",
      "molded_images            shape: (1, 384, 128, 3)      min: -125.83503  max: -101.46082  float64\n",
      "image_metas              shape: (1, 14)               min:    0.00000  max:  384.00000  int64\n",
      "anchors                  shape: (1, 12276, 4)         min:   -2.85070  max:    3.34676  float32\n",
      "[1.0, 0.9992576095025983]\n",
      "image ID: neurons.IVQ48_S7_FOV8.npz (5) /home/nel/Code/VolPy/Mask_RCNN/datasets/neurons/val/IVQ48_S7_FOV8.npz\n",
      "Processing 1 images\n",
      "image                    shape: (384, 128, 3)         min:   -2.14406  max:    3.15182  float64\n",
      "molded_images            shape: (1, 384, 128, 3)      min: -125.84406  max: -100.74818  float64\n",
      "image_metas              shape: (1, 14)               min:    0.00000  max:  384.00000  int64\n",
      "anchors                  shape: (1, 12276, 4)         min:   -2.85070  max:    3.34676  float32\n",
      "[1.0, 1.0, 0.9993288590604027]\n",
      "Loading weights  /home/nel/Code/VolPy/Mask_RCNN/logs/neurons20191008T1658/mask_rcnn_neurons_0075.h5\n",
      "Re-starting from epoch 75\n",
      "image ID: neurons.06152017Fish1-2.npz (0) /home/nel/Code/VolPy/Mask_RCNN/datasets/neurons/val/06152017Fish1-2.npz\n",
      "Processing 1 images\n",
      "image                    shape: (384, 320, 3)         min:   -0.59297  max:   13.05967  float64\n",
      "molded_images            shape: (1, 384, 320, 3)      min: -124.29297  max:  -90.84033  float64\n",
      "image_metas              shape: (1, 14)               min:    0.00000  max:  384.00000  int64\n",
      "anchors                  shape: (1, 30690, 4)         min:   -1.13492  max:    1.93429  float32\n",
      "[0.997979797979798, 0.9976580796252927, 0.9976019184652278, 0.9969879518072289, 1.0, 0.9976689976689976, 1.0, 0.99812734082397, 0.9977477477477478, 0.9981818181818182, 0.9970845481049563, 0.9980506822612085, 1.0, 0.9972527472527473, 1.0, 1.0, 0.9978354978354979, 0.9982425307557118, 1.0, 0.9974489795918368, 0.9971264367816092, 0.9981949458483754, 0.9970501474926253, 0.9971830985915493, 0.9965034965034965, 0.9981343283582089, 0.996969696969697, 0.9948186528497409]\n",
      "image ID: neurons.FOV3_35um.npz (1) /home/nel/Code/VolPy/Mask_RCNN/datasets/neurons/val/FOV3_35um.npz\n",
      "Processing 1 images\n",
      "image                    shape: (512, 128, 3)         min:   -1.49630  max:   11.27281  float64\n",
      "molded_images            shape: (1, 512, 128, 3)      min: -125.19630  max:  -92.62719  float64\n",
      "image_metas              shape: (1, 14)               min:    0.00000  max:  512.00000  int64\n",
      "anchors                  shape: (1, 16368, 4)         min:   -2.85070  max:    3.34676  float32\n",
      "[0.991869918699187, 0.9923664122137404, 0.9902912621359223, 0.9936708860759493, 0.9908256880733946, 0.99, 1.0, 0.9940119760479041, 0.9875, 0.9935064935064936, 0.9926470588235294, 0.9939759036144579, 0.9965034965034965, 0.9924812030075187, 0.99375, 1.0, 1.0, 0.9911504424778761, 0.9931972789115646, 1.0, 0.9935064935064936, 0.9908256880733946, 0.9888888888888889, 0.9893617021276596, 0.9888888888888889, 0.9897959183673469, 0.9880952380952381, 0.9888888888888889, 0.9912280701754386, 0.9917355371900827, 1.0, 0.9891304347826086, 0.990909090909091, 0.993421052631579, 0.9929577464788732, 0.990990990990991, 0.9896907216494846, 0.9912280701754386, 1.0, 1.0, 1.0, 0.9945945945945946, 0.9957081545064378, 0.9985380116959064, 0.9952380952380953, 0.9939759036144579, 0.9949238578680203, 0.9961389961389961, 0.9952830188679245, 0.995, 1.0, 1.0, 1.0, 0.9927536231884058]\n",
      "image ID: neurons.FOV4_50um.npz (2) /home/nel/Code/VolPy/Mask_RCNN/datasets/neurons/val/FOV4_50um.npz\n",
      "Processing 1 images\n",
      "image                    shape: (512, 128, 3)         min:   -1.28426  max:    7.54065  float64\n",
      "molded_images            shape: (1, 512, 128, 3)      min: -124.98426  max:  -96.35935  float64\n",
      "image_metas              shape: (1, 14)               min:    0.00000  max:  512.00000  int64\n",
      "anchors                  shape: (1, 16368, 4)         min:   -2.85070  max:    3.34676  float32\n"
     ]
    },
    {
     "name": "stdout",
     "output_type": "stream",
     "text": [
      "[0.9925925925925926, 0.9934640522875817, 0.9944444444444445, 0.9906542056074766, 0.9921875, 0.9878048780487805, 0.9926470588235294, 0.9935483870967742, 0.9921259842519685, 1.0, 0.9912280701754386, 0.9918032786885246, 0.9896907216494846, 0.9868421052631579, 0.9873417721518988, 0.9897959183673469, 0.9922480620155039, 0.9917355371900827, 0.9908256880733946, 0.9878048780487805, 0.9895833333333334, 0.98989898989899, 0.98989898989899, 0.9947089947089947, 0.990909090909091, 0.9935064935064936, 0.9886363636363636, 0.991869918699187, 0.9915254237288136, 0.9924812030075187, 0.9939393939393939, 0.9944444444444445, 0.9948717948717949, 0.9948453608247423]\n",
      "image ID: neurons.IVQ48_S7_FOV5.npz (3) /home/nel/Code/VolPy/Mask_RCNN/datasets/neurons/val/IVQ48_S7_FOV5.npz\n",
      "Processing 1 images\n",
      "image                    shape: (320, 128, 3)         min:   -1.60053  max:    2.87193  float64\n",
      "molded_images            shape: (1, 320, 128, 3)      min: -125.30053  max: -101.02807  float64\n",
      "image_metas              shape: (1, 14)               min:    0.00000  max:  320.00000  int64\n",
      "anchors                  shape: (1, 10230, 4)         min:   -2.85070  max:    3.34676  float32\n",
      "[0.9991356957649092, 1.0, 0.9990366088631984, 0.9984251968503937]\n",
      "image ID: neurons.IVQ48_S7_FOV7.npz (4) /home/nel/Code/VolPy/Mask_RCNN/datasets/neurons/val/IVQ48_S7_FOV7.npz\n",
      "Processing 1 images\n",
      "image                    shape: (384, 128, 3)         min:   -2.13503  max:    2.43918  float64\n",
      "molded_images            shape: (1, 384, 128, 3)      min: -125.83503  max: -101.46082  float64\n",
      "image_metas              shape: (1, 14)               min:    0.00000  max:  384.00000  int64\n",
      "anchors                  shape: (1, 12276, 4)         min:   -2.85070  max:    3.34676  float32\n",
      "[1.0, 0.9992576095025983]\n",
      "image ID: neurons.IVQ48_S7_FOV8.npz (5) /home/nel/Code/VolPy/Mask_RCNN/datasets/neurons/val/IVQ48_S7_FOV8.npz\n",
      "Processing 1 images\n",
      "image                    shape: (384, 128, 3)         min:   -2.14406  max:    3.15182  float64\n",
      "molded_images            shape: (1, 384, 128, 3)      min: -125.84406  max: -100.74818  float64\n",
      "image_metas              shape: (1, 14)               min:    0.00000  max:  384.00000  int64\n",
      "anchors                  shape: (1, 12276, 4)         min:   -2.85070  max:    3.34676  float32\n",
      "[1.0, 1.0, 0.9993288590604027]\n",
      "Loading weights  /home/nel/Code/VolPy/Mask_RCNN/logs/neurons20191008T1658/mask_rcnn_neurons_0075.h5\n",
      "Re-starting from epoch 75\n",
      "image ID: neurons.06152017Fish1-2.npz (0) /home/nel/Code/VolPy/Mask_RCNN/datasets/neurons/val/06152017Fish1-2.npz\n",
      "Processing 1 images\n",
      "image                    shape: (384, 320, 3)         min:   -0.59297  max:   13.05967  float64\n",
      "molded_images            shape: (1, 384, 320, 3)      min: -124.29297  max:  -90.84033  float64\n",
      "image_metas              shape: (1, 14)               min:    0.00000  max:  384.00000  int64\n",
      "anchors                  shape: (1, 30690, 4)         min:   -1.13492  max:    1.93429  float32\n",
      "[0.997979797979798, 0.9976580796252927, 0.9976019184652278, 0.9969879518072289, 1.0, 0.9976689976689976, 1.0, 0.99812734082397, 0.9977477477477478, 0.9981818181818182, 1.0, 0.9980506822612085, 1.0, 0.9972527472527473, 0.9978354978354979, 0.9982425307557118, 0.9974489795918368, 0.9971264367816092, 0.9981949458483754, 0.9970501474926253, 0.9965034965034965, 0.9981343283582089, 0.996969696969697, 0.9948186528497409]\n",
      "image ID: neurons.FOV3_35um.npz (1) /home/nel/Code/VolPy/Mask_RCNN/datasets/neurons/val/FOV3_35um.npz\n",
      "Processing 1 images\n",
      "image                    shape: (512, 128, 3)         min:   -1.49630  max:   11.27281  float64\n",
      "molded_images            shape: (1, 512, 128, 3)      min: -125.19630  max:  -92.62719  float64\n",
      "image_metas              shape: (1, 14)               min:    0.00000  max:  512.00000  int64\n",
      "anchors                  shape: (1, 16368, 4)         min:   -2.85070  max:    3.34676  float32\n",
      "[0.991869918699187, 0.9923664122137404, 0.9902912621359223, 0.9936708860759493, 0.9908256880733946, 0.99, 1.0, 0.9940119760479041, 0.9875, 0.9935064935064936, 0.9926470588235294, 0.9939759036144579, 0.9965034965034965, 0.9924812030075187, 0.99375, 1.0, 1.0, 0.9911504424778761, 0.9931972789115646, 1.0, 0.9935064935064936, 0.9908256880733946, 0.9888888888888889, 0.9893617021276596, 0.9888888888888889, 0.9897959183673469, 0.9880952380952381, 0.9888888888888889, 0.9912280701754386, 0.9917355371900827, 1.0, 0.9891304347826086, 0.990909090909091, 1.0, 0.9929577464788732, 0.990990990990991, 0.9896907216494846, 0.9912280701754386, 1.0, 1.0, 0.9945945945945946, 0.9957081545064378, 0.9985380116959064, 0.9952380952380953, 0.9949238578680203, 0.9961389961389961, 0.9952830188679245, 0.995, 0.9927536231884058]\n",
      "image ID: neurons.FOV4_50um.npz (2) /home/nel/Code/VolPy/Mask_RCNN/datasets/neurons/val/FOV4_50um.npz\n",
      "Processing 1 images\n",
      "image                    shape: (512, 128, 3)         min:   -1.28426  max:    7.54065  float64\n",
      "molded_images            shape: (1, 512, 128, 3)      min: -124.98426  max:  -96.35935  float64\n",
      "image_metas              shape: (1, 14)               min:    0.00000  max:  512.00000  int64\n",
      "anchors                  shape: (1, 16368, 4)         min:   -2.85070  max:    3.34676  float32\n",
      "[0.9925925925925926, 0.9934640522875817, 0.9944444444444445, 0.9906542056074766, 0.9921875, 0.9878048780487805, 0.9932432432432432, 0.9935483870967742, 0.9921259842519685, 1.0, 0.9912280701754386, 0.9918032786885246, 0.9896907216494846, 0.9868421052631579, 0.9873417721518988, 0.9897959183673469, 0.9922480620155039, 0.9917355371900827, 0.9908256880733946, 0.9878048780487805, 0.9895833333333334, 0.98989898989899, 0.98989898989899, 0.9947089947089947, 0.990909090909091, 0.9935064935064936, 0.9886363636363636, 0.991869918699187, 0.9915254237288136, 0.9924812030075187, 0.9939393939393939, 0.9944444444444445, 0.9948717948717949, 0.9948453608247423]\n",
      "image ID: neurons.IVQ48_S7_FOV5.npz (3) /home/nel/Code/VolPy/Mask_RCNN/datasets/neurons/val/IVQ48_S7_FOV5.npz\n",
      "Processing 1 images\n",
      "image                    shape: (320, 128, 3)         min:   -1.60053  max:    2.87193  float64\n",
      "molded_images            shape: (1, 320, 128, 3)      min: -125.30053  max: -101.02807  float64\n",
      "image_metas              shape: (1, 14)               min:    0.00000  max:  320.00000  int64\n",
      "anchors                  shape: (1, 10230, 4)         min:   -2.85070  max:    3.34676  float32\n",
      "[0.9991356957649092, 1.0, 0.9990366088631984, 1.0]\n",
      "image ID: neurons.IVQ48_S7_FOV7.npz (4) /home/nel/Code/VolPy/Mask_RCNN/datasets/neurons/val/IVQ48_S7_FOV7.npz\n",
      "Processing 1 images\n",
      "image                    shape: (384, 128, 3)         min:   -2.13503  max:    2.43918  float64\n",
      "molded_images            shape: (1, 384, 128, 3)      min: -125.83503  max: -101.46082  float64\n",
      "image_metas              shape: (1, 14)               min:    0.00000  max:  384.00000  int64\n",
      "anchors                  shape: (1, 12276, 4)         min:   -2.85070  max:    3.34676  float32\n",
      "[1.0, 0.9992576095025983]\n",
      "image ID: neurons.IVQ48_S7_FOV8.npz (5) /home/nel/Code/VolPy/Mask_RCNN/datasets/neurons/val/IVQ48_S7_FOV8.npz\n",
      "Processing 1 images\n",
      "image                    shape: (384, 128, 3)         min:   -2.14406  max:    3.15182  float64\n",
      "molded_images            shape: (1, 384, 128, 3)      min: -125.84406  max: -100.74818  float64\n",
      "image_metas              shape: (1, 14)               min:    0.00000  max:  384.00000  int64\n",
      "anchors                  shape: (1, 12276, 4)         min:   -2.85070  max:    3.34676  float32\n",
      "[1.0, 1.0, 0.9993288590604027]\n",
      "Loading weights  /home/nel/Code/VolPy/Mask_RCNN/logs/neurons20191008T1658/mask_rcnn_neurons_0075.h5\n",
      "Re-starting from epoch 75\n",
      "image ID: neurons.06152017Fish1-2.npz (0) /home/nel/Code/VolPy/Mask_RCNN/datasets/neurons/val/06152017Fish1-2.npz\n",
      "Processing 1 images\n",
      "image                    shape: (384, 320, 3)         min:   -0.59297  max:   13.05967  float64\n",
      "molded_images            shape: (1, 384, 320, 3)      min: -124.29297  max:  -90.84033  float64\n",
      "image_metas              shape: (1, 14)               min:    0.00000  max:  384.00000  int64\n",
      "anchors                  shape: (1, 30690, 4)         min:   -1.13492  max:    1.93429  float32\n",
      "[0.997979797979798, 0.9976580796252927, 0.9976019184652278, 0.9969879518072289, 1.0, 0.9976689976689976, 1.0, 0.99812734082397, 0.9977477477477478, 1.0, 0.9980506822612085, 0.9972527472527473, 0.9978354978354979, 0.9974489795918368, 0.9971264367816092, 0.9981949458483754, 0.9970501474926253, 0.9965034965034965, 0.9981343283582089, 0.9948186528497409]\n"
     ]
    },
    {
     "name": "stdout",
     "output_type": "stream",
     "text": [
      "image ID: neurons.FOV3_35um.npz (1) /home/nel/Code/VolPy/Mask_RCNN/datasets/neurons/val/FOV3_35um.npz\n",
      "Processing 1 images\n",
      "image                    shape: (512, 128, 3)         min:   -1.49630  max:   11.27281  float64\n",
      "molded_images            shape: (1, 512, 128, 3)      min: -125.19630  max:  -92.62719  float64\n",
      "image_metas              shape: (1, 14)               min:    0.00000  max:  512.00000  int64\n",
      "anchors                  shape: (1, 16368, 4)         min:   -2.85070  max:    3.34676  float32\n",
      "[1.0, 0.9923664122137404, 0.9902912621359223, 0.9936708860759493, 0.9908256880733946, 1.0, 1.0, 0.9940119760479041, 1.0, 0.9935064935064936, 0.9926470588235294, 0.9939759036144579, 0.9965034965034965, 0.9924812030075187, 0.99375, 1.0, 0.9911504424778761, 0.9931972789115646, 0.9935064935064936, 0.9908256880733946, 0.9888888888888889, 0.9893617021276596, 0.9888888888888889, 0.9897959183673469, 0.9880952380952381, 0.9888888888888889, 0.9912280701754386, 0.9917355371900827, 0.9891304347826086, 0.990909090909091, 0.9929577464788732, 0.990990990990991, 0.9896907216494846, 0.9912280701754386, 0.9945945945945946, 0.9957081545064378, 0.9985380116959064, 0.9952380952380953, 0.9949238578680203, 0.9961389961389961, 0.9952830188679245, 0.995]\n",
      "image ID: neurons.FOV4_50um.npz (2) /home/nel/Code/VolPy/Mask_RCNN/datasets/neurons/val/FOV4_50um.npz\n",
      "Processing 1 images\n",
      "image                    shape: (512, 128, 3)         min:   -1.28426  max:    7.54065  float64\n",
      "molded_images            shape: (1, 512, 128, 3)      min: -124.98426  max:  -96.35935  float64\n",
      "image_metas              shape: (1, 14)               min:    0.00000  max:  512.00000  int64\n",
      "anchors                  shape: (1, 16368, 4)         min:   -2.85070  max:    3.34676  float32\n",
      "[0.9925925925925926, 0.9934640522875817, 0.9944444444444445, 0.9906542056074766, 0.9921875, 0.9878048780487805, 0.9932432432432432, 0.9935483870967742, 0.9921259842519685, 1.0, 0.9912280701754386, 0.9918032786885246, 0.9896907216494846, 0.9868421052631579, 0.9873417721518988, 0.9897959183673469, 0.9922480620155039, 0.9917355371900827, 0.9908256880733946, 0.9878048780487805, 0.9895833333333334, 0.98989898989899, 0.98989898989899, 0.9947089947089947, 0.990909090909091, 0.9935064935064936, 0.9886363636363636, 0.991869918699187, 0.9915254237288136, 0.9924812030075187, 0.9939393939393939, 0.9944444444444445, 0.9948717948717949, 0.9948453608247423]\n",
      "image ID: neurons.IVQ48_S7_FOV5.npz (3) /home/nel/Code/VolPy/Mask_RCNN/datasets/neurons/val/IVQ48_S7_FOV5.npz\n",
      "Processing 1 images\n",
      "image                    shape: (320, 128, 3)         min:   -1.60053  max:    2.87193  float64\n",
      "molded_images            shape: (1, 320, 128, 3)      min: -125.30053  max: -101.02807  float64\n",
      "image_metas              shape: (1, 14)               min:    0.00000  max:  320.00000  int64\n",
      "anchors                  shape: (1, 10230, 4)         min:   -2.85070  max:    3.34676  float32\n",
      "[0.9991356957649092, 1.0, 0.9990366088631984, 1.0]\n",
      "image ID: neurons.IVQ48_S7_FOV7.npz (4) /home/nel/Code/VolPy/Mask_RCNN/datasets/neurons/val/IVQ48_S7_FOV7.npz\n",
      "Processing 1 images\n",
      "image                    shape: (384, 128, 3)         min:   -2.13503  max:    2.43918  float64\n",
      "molded_images            shape: (1, 384, 128, 3)      min: -125.83503  max: -101.46082  float64\n",
      "image_metas              shape: (1, 14)               min:    0.00000  max:  384.00000  int64\n",
      "anchors                  shape: (1, 12276, 4)         min:   -2.85070  max:    3.34676  float32\n",
      "[1.0, 0.9992576095025983]\n",
      "image ID: neurons.IVQ48_S7_FOV8.npz (5) /home/nel/Code/VolPy/Mask_RCNN/datasets/neurons/val/IVQ48_S7_FOV8.npz\n",
      "Processing 1 images\n",
      "image                    shape: (384, 128, 3)         min:   -2.14406  max:    3.15182  float64\n",
      "molded_images            shape: (1, 384, 128, 3)      min: -125.84406  max: -100.74818  float64\n",
      "image_metas              shape: (1, 14)               min:    0.00000  max:  384.00000  int64\n",
      "anchors                  shape: (1, 12276, 4)         min:   -2.85070  max:    3.34676  float32\n",
      "[1.0, 1.0, 0.9993288590604027]\n"
     ]
    },
    {
     "name": "stderr",
     "output_type": "stream",
     "text": [
      "W1008 17:24:39.122404 140480537569088 font_manager.py:1282] findfont: Font family ['Myriad Pro'] not found. Falling back to DejaVu Sans.\n",
      "W1008 17:24:39.142992 140480537569088 font_manager.py:1282] findfont: Font family ['Myriad Pro'] not found. Falling back to DejaVu Sans.\n"
     ]
    }
   ],
   "source": [
    "# Override the training configurations with a few\n",
    "# changes for inferencing.\n",
    "ct = [0.2,0.3,0.4,0.5]\n",
    "summary = {}\n",
    "for i in ct:\n",
    "    class InferenceConfig(config.__class__):\n",
    "        # Run detection on one image at a time\n",
    "        GPU_COUNT = 1\n",
    "        IMAGES_PER_GPU = 1\n",
    "        DETECTION_MIN_CONFIDENCE = 0.01\n",
    "        IMAGE_RESIZE_MODE = \"pad64\"\n",
    "        IMAGE_MAX_DIM=512\n",
    "        CLASS_THRESHOLD = i\n",
    "        RPN_NMS_THRESHOLD = 0.7\n",
    "        DETECTION_NMS_THRESHOLD = 0.3\n",
    "        #IMAGE_SHAPE=[512, 128,3]\n",
    "        #RPN_NMS_THRESHOLD = 0.7\n",
    "        #TRAIN_ROIS_PER_IMAGE = 1000\n",
    "    config = InferenceConfig()\n",
    "\n",
    "    # Create model in inference mode\n",
    "    with tf.device(DEVICE):\n",
    "        model = modellib.MaskRCNN(mode=\"inference\", model_dir=MODEL_DIR,\n",
    "                                  config=config)\n",
    "\n",
    "    weights_path = MODEL_DIR + \"/neurons20191008T1658/mask_rcnn_neurons_0075.h5\"\n",
    "\n",
    "    # Load weights\n",
    "    print(\"Loading weights \", weights_path)\n",
    "    model.load_weights(weights_path, by_name=True)\n",
    "\n",
    "    from caiman.base.rois import nf_match_neurons_in_binary_masks\n",
    "    performance=[]\n",
    "    for image_id in dataset.image_ids:\n",
    "        image, image_meta, gt_class_id, gt_bbox, gt_mask =\\\n",
    "            modellib.load_image_gt(dataset, config, image_id, use_mini_mask=False)\n",
    "        info = dataset.image_info[image_id]\n",
    "        print(\"image ID: {}.{} ({}) {}\".format(info[\"source\"], info[\"id\"], image_id, \n",
    "                                               dataset.image_reference(image_id)))\n",
    "\n",
    "        # Run object detection\n",
    "\n",
    "        results = model.detect([image], verbose=1)\n",
    "\n",
    "        # Display results\n",
    "        _, ax = plt.subplots(1,1, figsize=(16,16))\n",
    "        r = results[0]\n",
    "        display_result = True\n",
    "        if display_result:  \n",
    "            visualize.display_instances(image, r['rois'], r['masks'], r['class_ids'], \n",
    "                                        dataset.class_names, r['scores'], ax=ax,\n",
    "                                        title=\"Predictions\")\n",
    "        #plt.savefig(folder +dataset.image_info[image_id]['id'][:-4]+'_mrcnn_result.pdf')\n",
    "        plt.close()\n",
    "\n",
    "        mask_pr = r['masks'].transpose([2,0,1])\n",
    "        mask_gt = gt_mask.transpose([2,0,1])\n",
    "\n",
    "        tp_gt, tp_comp, fn_gt, fp_comp, performance_cons_off = nf_match_neurons_in_binary_masks(\n",
    "                mask_gt, mask_pr, thresh_cost=1, min_dist=10, print_assignment=True,\n",
    "                plot_results=True, Cn=image[:,:,0], labels=['GT', 'MRCNN'])\n",
    "        #plt.savefig(folder +dataset.image_info[image_id]['id'][:-4]+'_compare.pdf')\n",
    "        plt.close()\n",
    "        performance.append(performance_cons_off)\n",
    "        \n",
    "    summary[i] = performance\n"
   ]
  },
  {
   "cell_type": "code",
   "execution_count": null,
   "metadata": {},
   "outputs": [],
   "source": []
  },
  {
   "cell_type": "code",
   "execution_count": 138,
   "metadata": {},
   "outputs": [
    {
     "name": "stdout",
     "output_type": "stream",
     "text": [
      "0.8166718192293639\n",
      "[0.6956521739130435, 0.8131868131868132, 0.9411764705882353]\n",
      "0.838029975379373\n",
      "[0.676923076923077, 0.8674698795180723, 0.9696969696969697]\n",
      "0.8388594944150499\n",
      "[0.7, 0.8641975308641975, 0.9523809523809523]\n",
      "0.8376713589272633\n",
      "[0.711864406779661, 0.8831168831168831, 0.9180327868852459]\n"
     ]
    }
   ],
   "source": [
    "for key, performance in summary.items():\n",
    "    print((sum([performance[i]['f1_score'] for i in range(len(performance))][:3]))/3)\n",
    "    print([performance[i]['f1_score'] for i in range(len(performance))][:3])"
   ]
  },
  {
   "cell_type": "code",
   "execution_count": 18,
   "metadata": {},
   "outputs": [
    {
     "name": "stdout",
     "output_type": "stream",
     "text": [
      "0.7773611111111111\n",
      "[0.71875, 0.7333333333333333, 0.88]\n",
      "0.8042509722837591\n",
      "[0.7213114754098361, 0.7747747747747747, 0.9166666666666666]\n",
      "0.8106203435852416\n",
      "[0.7017543859649122, 0.7735849056603774, 0.9565217391304348]\n",
      "0.7865241389103764\n",
      "[0.6415094339622641, 0.7474747474747475, 0.9705882352941176]\n"
     ]
    }
   ],
   "source": [
    "for key, performance in summary.items():\n",
    "    print((sum([performance[i]['f1_score'] for i in range(len(performance))][:3]))/3)\n",
    "    print([performance[i]['f1_score'] for i in range(len(performance))][:3])"
   ]
  },
  {
   "cell_type": "markdown",
   "metadata": {},
   "source": [
    "## Color Splash\n",
    "\n",
    "This is for illustration. You can call `balloon.py` with the `splash` option to get better images without the black padding."
   ]
  },
  {
   "cell_type": "code",
   "execution_count": null,
   "metadata": {},
   "outputs": [],
   "source": []
  },
  {
   "cell_type": "code",
   "execution_count": 19,
   "metadata": {},
   "outputs": [],
   "source": [
    "splash = neurons.color_splash(image, r['masks'])\n",
    "display_images([splash], cols=1)"
   ]
  },
  {
   "cell_type": "markdown",
   "metadata": {},
   "source": [
    "## Step by Step Prediction"
   ]
  },
  {
   "cell_type": "markdown",
   "metadata": {},
   "source": [
    "## Stage 1: Region Proposal Network\n",
    "\n",
    "The Region Proposal Network (RPN) runs a lightweight binary classifier on a lot of boxes (anchors) over the image and returns object/no-object scores. Anchors with high *objectness* score (positive anchors) are passed to the stage two to be classified.\n",
    "\n",
    "Often, even positive anchors don't cover objects fully. So the RPN also regresses a refinement (a delta in location and size) to be applied to the anchors to shift it and resize it a bit to the correct boundaries of the object."
   ]
  },
  {
   "cell_type": "markdown",
   "metadata": {},
   "source": [
    "### 1.a RPN Targets\n",
    "\n",
    "The RPN targets are the training values for the RPN. To generate the targets, we start with a grid of anchors that cover the full image at different scales, and then we compute the IoU of the anchors with ground truth object. Positive anchors are those that have an IoU >= 0.7 with any ground truth object, and negative anchors are those that don't cover any object by more than 0.3 IoU. Anchors in between (i.e. cover an object by IoU >= 0.3 but < 0.7) are considered neutral and excluded from training.\n",
    "\n",
    "To train the RPN regressor, we also compute the shift and resizing needed to make the anchor cover the ground truth object completely."
   ]
  },
  {
   "cell_type": "code",
   "execution_count": 59,
   "metadata": {},
   "outputs": [
    {
     "name": "stdout",
     "output_type": "stream",
     "text": [
      "target_rpn_match         shape: (10230,)              min:    0.00000  max:    1.00000  int32\n",
      "target_rpn_bbox          shape: (64, 4)               min: -338.52737  max:  279.30718  float64\n",
      "positive_anchors         shape: (32, 4)               min:  -26.50967  max:  317.65685  float64\n",
      "negative_anchors         shape: (0, 4)                min:             max:             float64\n",
      "neutral anchors          shape: (10198, 4)            min:  -90.50967  max:  346.50967  float64\n",
      "refined_anchors          shape: (32, 4)               min:   41.00000  max:  279.00003  float32\n"
     ]
    }
   ],
   "source": [
    "# Generate RPN trainig targets\n",
    "# target_rpn_match is 1 for positive anchors, -1 for negative anchors\n",
    "# and 0 for neutral anchors.\n",
    "target_rpn_match, target_rpn_bbox = modellib.build_rpn_targets(\n",
    "    image.shape, model.anchors, gt_class_id, gt_bbox, model.config)\n",
    "log(\"target_rpn_match\", target_rpn_match)\n",
    "log(\"target_rpn_bbox\", target_rpn_bbox)\n",
    "\n",
    "positive_anchor_ix = np.where(target_rpn_match[:] == 1)[0]\n",
    "negative_anchor_ix = np.where(target_rpn_match[:] == -1)[0]\n",
    "neutral_anchor_ix = np.where(target_rpn_match[:] == 0)[0]\n",
    "positive_anchors = model.anchors[positive_anchor_ix]\n",
    "negative_anchors = model.anchors[negative_anchor_ix]\n",
    "neutral_anchors = model.anchors[neutral_anchor_ix]\n",
    "log(\"positive_anchors\", positive_anchors)\n",
    "log(\"negative_anchors\", negative_anchors)\n",
    "log(\"neutral anchors\", neutral_anchors)\n",
    "\n",
    "# Apply refinement deltas to positive anchors\n",
    "refined_anchors = utils.apply_box_deltas(\n",
    "    positive_anchors,\n",
    "    target_rpn_bbox[:positive_anchors.shape[0]] * model.config.RPN_BBOX_STD_DEV)\n",
    "log(\"refined_anchors\", refined_anchors, )\n"
   ]
  },
  {
   "cell_type": "code",
   "execution_count": 60,
   "metadata": {},
   "outputs": [],
   "source": [
    "# Display positive anchors before refinement (dotted) and\n",
    "# after refinement (solid).\n",
    "visualize.draw_boxes(image, boxes=positive_anchors, refined_boxes=refined_anchors, ax=get_ax())"
   ]
  },
  {
   "cell_type": "markdown",
   "metadata": {},
   "source": [
    "### 1.b RPN Predictions\n",
    "\n",
    "Here we run the RPN graph and display its predictions."
   ]
  },
  {
   "cell_type": "code",
   "execution_count": 61,
   "metadata": {},
   "outputs": [
    {
     "name": "stdout",
     "output_type": "stream",
     "text": [
      "rpn_class                shape: (1, 40920, 2)         min:    0.00001  max:    0.99999  float32\n",
      "pre_nms_anchors          shape: (1, 6000, 4)          min:   -0.14186  max:    1.04155  float32\n",
      "refined_anchors          shape: (1, 6000, 4)          min:   -0.15834  max:    1.04073  float32\n",
      "refined_anchors_clipped  shape: (1, 6000, 4)          min:    0.00000  max:    1.00000  float32\n",
      "post_nms_anchor_ix       shape: (1000,)               min:    0.00000  max: 1174.00000  int32\n",
      "proposals                shape: (1, 1000, 4)          min:    0.00000  max:    1.00000  float32\n"
     ]
    }
   ],
   "source": [
    "# Run RPN sub-graph\n",
    "pillar = model.keras_model.get_layer(\"ROI\").output  # node to start searching from\n",
    "\n",
    "# TF 1.4 and 1.9 introduce new versions of NMS. Search for all names to support TF 1.3~1.10\n",
    "nms_node = model.ancestor(pillar, \"ROI/rpn_non_max_suppression:0\")\n",
    "if nms_node is None:\n",
    "    nms_node = model.ancestor(pillar, \"ROI/rpn_non_max_suppression/NonMaxSuppressionV2:0\")\n",
    "if nms_node is None: #TF 1.9-1.10\n",
    "    nms_node = model.ancestor(pillar, \"ROI/rpn_non_max_suppression/NonMaxSuppressionV3:0\")\n",
    "\n",
    "rpn = model.run_graph([image], [\n",
    "    (\"rpn_class\", model.keras_model.get_layer(\"rpn_class\").output),\n",
    "    (\"pre_nms_anchors\", model.ancestor(pillar, \"ROI/pre_nms_anchors:0\")),\n",
    "    (\"refined_anchors\", model.ancestor(pillar, \"ROI/refined_anchors:0\")),\n",
    "    (\"refined_anchors_clipped\", model.ancestor(pillar, \"ROI/refined_anchors_clipped:0\")),\n",
    "    (\"post_nms_anchor_ix\", nms_node),\n",
    "    (\"proposals\", model.keras_model.get_layer(\"ROI\").output),\n",
    "])"
   ]
  },
  {
   "cell_type": "code",
   "execution_count": 62,
   "metadata": {},
   "outputs": [
    {
     "ename": "IndexError",
     "evalue": "index 36508 is out of bounds for axis 0 with size 10230",
     "output_type": "error",
     "traceback": [
      "\u001b[0;31m---------------------------------------------------------------------------\u001b[0m",
      "\u001b[0;31mIndexError\u001b[0m                                Traceback (most recent call last)",
      "\u001b[0;32m<ipython-input-62-2c1b855b205e>\u001b[0m in \u001b[0;36m<module>\u001b[0;34m\u001b[0m\n\u001b[1;32m      2\u001b[0m \u001b[0mlimit\u001b[0m \u001b[0;34m=\u001b[0m \u001b[0;36m100\u001b[0m\u001b[0;34m\u001b[0m\u001b[0;34m\u001b[0m\u001b[0m\n\u001b[1;32m      3\u001b[0m \u001b[0msorted_anchor_ids\u001b[0m \u001b[0;34m=\u001b[0m \u001b[0mnp\u001b[0m\u001b[0;34m.\u001b[0m\u001b[0margsort\u001b[0m\u001b[0;34m(\u001b[0m\u001b[0mrpn\u001b[0m\u001b[0;34m[\u001b[0m\u001b[0;34m'rpn_class'\u001b[0m\u001b[0;34m]\u001b[0m\u001b[0;34m[\u001b[0m\u001b[0;34m:\u001b[0m\u001b[0;34m,\u001b[0m\u001b[0;34m:\u001b[0m\u001b[0;34m,\u001b[0m\u001b[0;36m1\u001b[0m\u001b[0;34m]\u001b[0m\u001b[0;34m.\u001b[0m\u001b[0mflatten\u001b[0m\u001b[0;34m(\u001b[0m\u001b[0;34m)\u001b[0m\u001b[0;34m)\u001b[0m\u001b[0;34m[\u001b[0m\u001b[0;34m:\u001b[0m\u001b[0;34m:\u001b[0m\u001b[0;34m-\u001b[0m\u001b[0;36m1\u001b[0m\u001b[0;34m]\u001b[0m\u001b[0;34m\u001b[0m\u001b[0;34m\u001b[0m\u001b[0m\n\u001b[0;32m----> 4\u001b[0;31m \u001b[0mvisualize\u001b[0m\u001b[0;34m.\u001b[0m\u001b[0mdraw_boxes\u001b[0m\u001b[0;34m(\u001b[0m\u001b[0mimage\u001b[0m\u001b[0;34m,\u001b[0m \u001b[0mboxes\u001b[0m\u001b[0;34m=\u001b[0m\u001b[0mmodel\u001b[0m\u001b[0;34m.\u001b[0m\u001b[0manchors\u001b[0m\u001b[0;34m[\u001b[0m\u001b[0msorted_anchor_ids\u001b[0m\u001b[0;34m[\u001b[0m\u001b[0;34m:\u001b[0m\u001b[0mlimit\u001b[0m\u001b[0;34m]\u001b[0m\u001b[0;34m]\u001b[0m\u001b[0;34m,\u001b[0m \u001b[0max\u001b[0m\u001b[0;34m=\u001b[0m\u001b[0mget_ax\u001b[0m\u001b[0;34m(\u001b[0m\u001b[0;34m)\u001b[0m\u001b[0;34m)\u001b[0m\u001b[0;34m\u001b[0m\u001b[0;34m\u001b[0m\u001b[0m\n\u001b[0m",
      "\u001b[0;31mIndexError\u001b[0m: index 36508 is out of bounds for axis 0 with size 10230"
     ]
    }
   ],
   "source": [
    "# Show top anchors by score (before refinement)\n",
    "limit = 100\n",
    "sorted_anchor_ids = np.argsort(rpn['rpn_class'][:,:,1].flatten())[::-1]\n",
    "visualize.draw_boxes(image, boxes=model.anchors[sorted_anchor_ids[:limit]], ax=get_ax())"
   ]
  },
  {
   "cell_type": "code",
   "execution_count": 63,
   "metadata": {},
   "outputs": [
    {
     "data": {
      "text/plain": [
       "(40920,)"
      ]
     },
     "execution_count": 63,
     "metadata": {},
     "output_type": "execute_result"
    }
   ],
   "source": [
    "sorted_anchor_ids.shape"
   ]
  },
  {
   "cell_type": "code",
   "execution_count": 64,
   "metadata": {
    "scrolled": false
   },
   "outputs": [],
   "source": [
    "# Show top anchors with refinement. Then with clipping to image boundaries\n",
    "limit = 1000\n",
    "ax = get_ax(1, 2)\n",
    "pre_nms_anchors = utils.denorm_boxes(rpn[\"pre_nms_anchors\"][0], image.shape[:2])\n",
    "refined_anchors = utils.denorm_boxes(rpn[\"refined_anchors\"][0], image.shape[:2])\n",
    "refined_anchors_clipped = utils.denorm_boxes(rpn[\"refined_anchors_clipped\"][0], image.shape[:2])\n",
    "visualize.draw_boxes(image, boxes=pre_nms_anchors[:limit],\n",
    "                     refined_boxes=refined_anchors[:limit], ax=ax[0])\n",
    "visualize.draw_boxes(image, refined_boxes=refined_anchors_clipped[:limit], ax=ax[1],cmap='gray',vmax=np.percentile(image,95))"
   ]
  },
  {
   "cell_type": "code",
   "execution_count": 65,
   "metadata": {
    "scrolled": false
   },
   "outputs": [],
   "source": [
    "# Show refined anchors after non-max suppression\n",
    "limit = 1000\n",
    "ixs = rpn[\"post_nms_anchor_ix\"][:limit]\n",
    "visualize.draw_boxes(image, refined_boxes=refined_anchors_clipped[ixs], ax=get_ax(),cmap='gray',vmax=np.percentile(image,95))"
   ]
  },
  {
   "cell_type": "code",
   "execution_count": 55,
   "metadata": {},
   "outputs": [],
   "source": [
    "config.IMAGE_SHAPE = np.array([508,288,3])"
   ]
  },
  {
   "cell_type": "code",
   "execution_count": 56,
   "metadata": {},
   "outputs": [],
   "source": [
    "# Show final proposals\n",
    "# These are the same as the previous step (refined anchors \n",
    "# after NMS) but with coordinates normalized to [0, 1] range.\n",
    "limit = 2000\n",
    "# Convert back to image coordinates for display\n",
    "h, w = config.IMAGE_SHAPE[:2]\n",
    "proposals = rpn['proposals'][0, :limit] * np.array([h, w, h, w])\n",
    "visualize.draw_boxes(image, refined_boxes=proposals, ax=get_ax(), cmap='gray', vmax=np.percentile(image, 95))"
   ]
  },
  {
   "cell_type": "markdown",
   "metadata": {},
   "source": [
    "## Stage 2: Proposal Classification\n",
    "\n",
    "This stage takes the region proposals from the RPN and classifies them."
   ]
  },
  {
   "cell_type": "markdown",
   "metadata": {},
   "source": [
    "### 2.a Proposal Classification\n",
    "\n",
    "Run the classifier heads on proposals to generate class propbabilities and bounding box regressions."
   ]
  },
  {
   "cell_type": "code",
   "execution_count": 117,
   "metadata": {},
   "outputs": [
    {
     "name": "stdout",
     "output_type": "stream",
     "text": [
      "proposals                shape: (1, 1000, 4)          min:    0.00000  max:    1.00000  float32\n",
      "probs                    shape: (1, 1000, 2)          min:    0.00422  max:    0.99578  float32\n",
      "deltas                   shape: (1, 1000, 2, 4)       min:   -2.78217  max:    2.53558  float32\n",
      "masks                    shape: (1, 100, 28, 28, 2)   min:    0.00114  max:    0.99894  float32\n",
      "detections               shape: (1, 100, 6)           min:    0.00000  max:    1.00000  float32\n"
     ]
    }
   ],
   "source": [
    "# Get input and output to classifier and mask heads.\n",
    "mrcnn = model.run_graph([image], [\n",
    "    (\"proposals\", model.keras_model.get_layer(\"ROI\").output),\n",
    "    (\"probs\", model.keras_model.get_layer(\"mrcnn_class\").output),\n",
    "    (\"deltas\", model.keras_model.get_layer(\"mrcnn_bbox\").output),\n",
    "    (\"masks\", model.keras_model.get_layer(\"mrcnn_mask\").output),\n",
    "    (\"detections\", model.keras_model.get_layer(\"mrcnn_detection\").output),\n",
    "])"
   ]
  },
  {
   "cell_type": "code",
   "execution_count": 116,
   "metadata": {},
   "outputs": [],
   "source": [
    "config.DETECTION_NMS_THRESHOLD=0.3"
   ]
  },
  {
   "cell_type": "code",
   "execution_count": 118,
   "metadata": {},
   "outputs": [
    {
     "name": "stdout",
     "output_type": "stream",
     "text": [
      "74 detections: ['neurons' 'neurons' 'neurons' 'neurons' 'neurons' 'neurons' 'neurons'\n",
      " 'neurons' 'neurons' 'neurons' 'neurons' 'neurons' 'neurons' 'neurons'\n",
      " 'neurons' 'neurons' 'neurons' 'neurons' 'neurons' 'neurons' 'neurons'\n",
      " 'neurons' 'neurons' 'neurons' 'neurons' 'neurons' 'neurons' 'neurons'\n",
      " 'neurons' 'neurons' 'neurons' 'neurons' 'neurons' 'neurons' 'neurons'\n",
      " 'neurons' 'neurons' 'neurons' 'neurons' 'neurons' 'neurons' 'neurons'\n",
      " 'neurons' 'neurons' 'neurons' 'neurons' 'neurons' 'neurons' 'neurons'\n",
      " 'neurons' 'neurons' 'neurons' 'neurons' 'neurons' 'neurons' 'neurons'\n",
      " 'neurons' 'neurons' 'neurons' 'neurons' 'neurons' 'neurons' 'neurons'\n",
      " 'neurons' 'neurons' 'neurons' 'neurons' 'neurons' 'neurons' 'neurons'\n",
      " 'neurons' 'neurons' 'neurons' 'neurons']\n"
     ]
    }
   ],
   "source": [
    "# Get detection class IDs. Trim zero padding.\n",
    "det_class_ids = mrcnn['detections'][0, :, 4].astype(np.int32)\n",
    "det_count = np.where(det_class_ids == 0)[0][0]\n",
    "det_class_ids = det_class_ids[:det_count]\n",
    "detections = mrcnn['detections'][0, :det_count]\n",
    "\n",
    "print(\"{} detections: {}\".format(\n",
    "    det_count, np.array(dataset.class_names)[det_class_ids]))\n",
    "\n",
    "captions = [\"{} {:.3f}\".format(dataset.class_names[int(c)], s) if c > 0 else \"\"\n",
    "            for c, s in zip(detections[:, 4], detections[:, 5])]\n",
    "visualize.draw_boxes(\n",
    "    image, \n",
    "    refined_boxes=utils.denorm_boxes(detections[:, :4], image.shape[:2]),\n",
    "    visibilities=[2] * len(detections),\n",
    "    captions=captions, title=\"Detections\",\n",
    "    ax=get_ax(),cmap='gray', vmax=np.percentile(image, 95))"
   ]
  },
  {
   "cell_type": "markdown",
   "metadata": {},
   "source": [
    "### 2.c Step by Step Detection\n",
    "\n",
    "Here we dive deeper into the process of processing the detections."
   ]
  },
  {
   "cell_type": "code",
   "execution_count": 119,
   "metadata": {},
   "outputs": [
    {
     "name": "stdout",
     "output_type": "stream",
     "text": [
      "1000 Valid proposals out of 1000\n",
      "724 Positive ROIs\n",
      "[('BG', 276), ('neurons', 724)]\n"
     ]
    }
   ],
   "source": [
    "# Proposals are in normalized coordinates. Scale them\n",
    "# to image coordinates.\n",
    "h, w = config.IMAGE_SHAPE[:2]\n",
    "proposals = np.around(mrcnn[\"proposals\"][0] * np.array([h, w, h, w])).astype(np.int32)\n",
    "\n",
    "# Class ID, score, and mask per proposal\n",
    "\n",
    "roi_class_ids = np.argmax(mrcnn[\"probs\"][0], axis=1)\n",
    "#roi_class_ids = ((mrcnn[\"probs\"][0][:,1]>0.3)*1.).astype(np.int)\n",
    "\n",
    "roi_scores = mrcnn[\"probs\"][0, np.arange(roi_class_ids.shape[0]), roi_class_ids]\n",
    "roi_class_names = np.array(dataset.class_names)[roi_class_ids]\n",
    "roi_positive_ixs = np.where(roi_class_ids > 0)[0]\n",
    "\n",
    "# How many ROIs vs empty rows?\n",
    "print(\"{} Valid proposals out of {}\".format(np.sum(np.any(proposals, axis=1)), proposals.shape[0]))\n",
    "print(\"{} Positive ROIs\".format(len(roi_positive_ixs)))\n",
    "\n",
    "# Class counts\n",
    "print(list(zip(*np.unique(roi_class_names, return_counts=True))))"
   ]
  },
  {
   "cell_type": "code",
   "execution_count": 120,
   "metadata": {},
   "outputs": [],
   "source": [
    "# Display a random sample of proposals.\n",
    "# Proposals classified as background are dotted, and\n",
    "# the rest show their class and confidence score.\n",
    "limit = 1000\n",
    "ixs = np.random.randint(0, proposals.shape[0], limit)\n",
    "captions = [\"{} {:.3f}\".format(dataset.class_names[c], s) if c > 0 else \"\"\n",
    "            for c, s in zip(roi_class_ids[ixs], roi_scores[ixs])]\n",
    "visualize.draw_boxes(image, boxes=proposals[ixs],\n",
    "                     visibilities=np.where(roi_class_ids[ixs] > 0, 2, 1),\n",
    "                     captions=captions, title=\"ROIs Before Refinement\",\n",
    "                     ax=get_ax(), cmap='gray', vmax=np.percentile(image, 95))"
   ]
  },
  {
   "cell_type": "markdown",
   "metadata": {},
   "source": [
    "#### Apply Bounding Box Refinement"
   ]
  },
  {
   "cell_type": "code",
   "execution_count": 126,
   "metadata": {},
   "outputs": [
    {
     "name": "stdout",
     "output_type": "stream",
     "text": [
      "roi_bbox_specific        shape: (1000, 4)             min:   -2.78217  max:    2.53558  float32\n",
      "refined_proposals        shape: (1000, 4)             min:   -1.00000  max:  507.00000  int32\n"
     ]
    }
   ],
   "source": [
    "# Class-specific bounding box shifts.\n",
    "roi_bbox_specific = mrcnn[\"deltas\"][0, np.arange(proposals.shape[0]), roi_class_ids]\n",
    "log(\"roi_bbox_specific\", roi_bbox_specific)\n",
    "\n",
    "# Apply bounding box transformations\n",
    "# Shape: [N, (y1, x1, y2, x2)]\n",
    "refined_proposals = utils.apply_box_deltas(\n",
    "    proposals, roi_bbox_specific * config.BBOX_STD_DEV).astype(np.int32)\n",
    "log(\"refined_proposals\", refined_proposals)\n",
    "\n",
    "# Show positive proposals\n",
    "#ids = np.arange(roi_boxes.shape[0])  # Display all\n",
    "limit = 1000\n",
    "#ids = np.random.randint(0, len(roi_positive_ixs), limit)  # Display random sample\n",
    "captions = [\"{} {:.3f}\".format(dataset.class_names[c], s) if c > 0 else \"\"\n",
    "            for c, s in zip(roi_class_ids[roi_positive_ixs][ids], roi_scores[roi_positive_ixs][ids])]\n",
    "visualize.draw_boxes(image, boxes=proposals[roi_positive_ixs][ids],\n",
    "                     refined_boxes=refined_proposals[roi_positive_ixs][ids],\n",
    "                     visibilities=np.where(roi_class_ids[roi_positive_ixs][ids] > 0, 1, 0),\n",
    "                     captions=captions, title=\"ROIs After Refinement\",\n",
    "                     ax=get_ax())"
   ]
  },
  {
   "cell_type": "markdown",
   "metadata": {},
   "source": [
    "#### Filter Low Confidence Detections"
   ]
  },
  {
   "cell_type": "code",
   "execution_count": 110,
   "metadata": {},
   "outputs": [
    {
     "name": "stdout",
     "output_type": "stream",
     "text": [
      "Keep 724 detections:\n",
      "[  0   1   2   3   4   5   6   7   8   9  10  11  12  13  14  15  16  17\n",
      "  18  19  20  21  22  23  24  25  26  27  28  29  30  31  32  33  34  35\n",
      "  36  37  38  39  40  41  42  43  44  45  46  47  48  49  50  51  52  53\n",
      "  54  55  57  58  59  60  61  62  63  64  65  66  67  68  69  70  71  72\n",
      "  73  74  75  76  77  79  80  81  84  85  86  87  88  89  90  91  92  93\n",
      "  94  95  96  97  98  99 100 101 102 103 104 105 106 107 108 109 110 111\n",
      " 112 113 114 115 116 117 118 119 120 121 122 123 124 125 126 127 128 131\n",
      " 132 133 135 136 137 138 139 140 141 142 143 144 145 146 147 148 149 150\n",
      " 152 154 155 156 158 159 161 162 163 164 165 166 167 168 169 170 171 172\n",
      " 173 174 175 176 177 178 179 180 181 182 183 184 185 186 188 189 190 191\n",
      " 192 193 194 195 197 198 199 200 201 202 203 204 205 206 207 208 209 211\n",
      " 212 213 214 216 217 218 219 220 221 222 223 224 225 226 227 228 229 230\n",
      " 231 232 233 234 235 236 237 238 239 241 242 245 246 247 248 249 250 251\n",
      " 252 253 254 255 257 258 259 260 261 262 263 264 265 268 269 270 271 272\n",
      " 273 274 277 278 280 281 282 283 287 288 289 290 291 292 293 295 296 297\n",
      " 298 299 300 301 302 303 304 305 306 307 308 309 310 311 313 315 317 318\n",
      " 320 321 322 323 324 325 326 327 328 329 330 331 332 333 334 335 336 337\n",
      " 338 339 340 342 344 345 347 348 349 350 351 352 353 356 358 359 360 361\n",
      " 362 363 364 365 367 368 369 370 371 372 373 376 378 379 381 383 384 386\n",
      " 387 389 391 392 393 394 395 397 402 403 404 405 406 407 408 409 410 412\n",
      " 413 414 415 416 418 421 423 425 427 428 429 430 432 433 434 436 437 438\n",
      " 439 442 443 444 445 446 448 449 451 452 454 455 456 457 458 459 460 462\n",
      " 463 464 465 466 468 470 471 472 473 474 475 476 477 478 479 482 483 485\n",
      " 487 488 489 490 491 492 494 495 496 497 499 500 501 502 503 505 506 507\n",
      " 508 509 511 512 513 515 519 520 523 524 525 526 528 529 530 531 532 533\n",
      " 534 535 537 538 539 540 541 542 543 544 545 546 547 548 549 550 551 552\n",
      " 553 554 555 557 558 559 560 563 564 565 568 569 571 572 573 574 575 577\n",
      " 581 582 583 584 585 586 587 588 589 590 591 592 594 596 597 598 599 600\n",
      " 601 602 603 604 605 606 608 609 614 615 616 617 618 619 621 622 623 624\n",
      " 625 628 629 631 633 635 636 637 638 640 643 644 648 649 650 651 653 654\n",
      " 656 658 659 660 664 665 666 669 670 673 674 675 676 677 681 683 685 686\n",
      " 687 688 689 690 691 692 695 696 697 699 700 701 702 703 705 710 711 712\n",
      " 713 715 718 719 722 724 725 727 729 730 731 732 736 737 740 741 742 743\n",
      " 744 745 748 749 750 751 752 754 756 757 758 760 762 763 764 766 767 771\n",
      " 774 779 780 782 783 786 787 789 790 791 792 793 795 799 800 805 809 812\n",
      " 815 816 818 819 820 822 823 826 827 828 829 831 833 834 835 836 839 840\n",
      " 843 844 847 848 851 853 854 855 857 858 860 861 862 863 865 866 870 874\n",
      " 875 876 877 878 879 881 883 884 885 886 887 892 895 900 901 902 905 908\n",
      " 911 912 916 918 919 920 923 927 928 929 930 931 933 935 937 939 940 942\n",
      " 943 944 950 951 955 958 960 964 966 967 969 970 971 976 979 982 984 986\n",
      " 987 988 990 992]\n"
     ]
    }
   ],
   "source": [
    "# Remove boxes classified as background\n",
    "keep = np.where(roi_class_ids > 0)[0]\n",
    "print(\"Keep {} detections:\\n{}\".format(keep.shape[0], keep))"
   ]
  },
  {
   "cell_type": "code",
   "execution_count": 111,
   "metadata": {},
   "outputs": [
    {
     "name": "stdout",
     "output_type": "stream",
     "text": [
      "Remove boxes below 0 confidence. Keep 724:\n",
      "[  0   1   2   3   4   5   6   7   8   9  10  11  12  13  14  15  16  17\n",
      "  18  19  20  21  22  23  24  25  26  27  28  29  30  31  32  33  34  35\n",
      "  36  37  38  39  40  41  42  43  44  45  46  47  48  49  50  51  52  53\n",
      "  54  55  57  58  59  60  61  62  63  64  65  66  67  68  69  70  71  72\n",
      "  73  74  75  76  77  79  80  81  84  85  86  87  88  89  90  91  92  93\n",
      "  94  95  96  97  98  99 100 101 102 103 104 105 106 107 108 109 110 111\n",
      " 112 113 114 115 116 117 118 119 120 121 122 123 124 125 126 127 128 131\n",
      " 132 133 135 136 137 138 139 140 141 142 143 144 145 146 147 148 149 150\n",
      " 152 154 155 156 158 159 161 162 163 164 165 166 167 168 169 170 171 172\n",
      " 173 174 175 176 177 178 179 180 181 182 183 184 185 186 188 189 190 191\n",
      " 192 193 194 195 197 198 199 200 201 202 203 204 205 206 207 208 209 211\n",
      " 212 213 214 216 217 218 219 220 221 222 223 224 225 226 227 228 229 230\n",
      " 231 232 233 234 235 236 237 238 239 241 242 245 246 247 248 249 250 251\n",
      " 252 253 254 255 257 258 259 260 261 262 263 264 265 268 269 270 271 272\n",
      " 273 274 277 278 280 281 282 283 287 288 289 290 291 292 293 295 296 297\n",
      " 298 299 300 301 302 303 304 305 306 307 308 309 310 311 313 315 317 318\n",
      " 320 321 322 323 324 325 326 327 328 329 330 331 332 333 334 335 336 337\n",
      " 338 339 340 342 344 345 347 348 349 350 351 352 353 356 358 359 360 361\n",
      " 362 363 364 365 367 368 369 370 371 372 373 376 378 379 381 383 384 386\n",
      " 387 389 391 392 393 394 395 397 402 403 404 405 406 407 408 409 410 412\n",
      " 413 414 415 416 418 421 423 425 427 428 429 430 432 433 434 436 437 438\n",
      " 439 442 443 444 445 446 448 449 451 452 454 455 456 457 458 459 460 462\n",
      " 463 464 465 466 468 470 471 472 473 474 475 476 477 478 479 482 483 485\n",
      " 487 488 489 490 491 492 494 495 496 497 499 500 501 502 503 505 506 507\n",
      " 508 509 511 512 513 515 519 520 523 524 525 526 528 529 530 531 532 533\n",
      " 534 535 537 538 539 540 541 542 543 544 545 546 547 548 549 550 551 552\n",
      " 553 554 555 557 558 559 560 563 564 565 568 569 571 572 573 574 575 577\n",
      " 581 582 583 584 585 586 587 588 589 590 591 592 594 596 597 598 599 600\n",
      " 601 602 603 604 605 606 608 609 614 615 616 617 618 619 621 622 623 624\n",
      " 625 628 629 631 633 635 636 637 638 640 643 644 648 649 650 651 653 654\n",
      " 656 658 659 660 664 665 666 669 670 673 674 675 676 677 681 683 685 686\n",
      " 687 688 689 690 691 692 695 696 697 699 700 701 702 703 705 710 711 712\n",
      " 713 715 718 719 722 724 725 727 729 730 731 732 736 737 740 741 742 743\n",
      " 744 745 748 749 750 751 752 754 756 757 758 760 762 763 764 766 767 771\n",
      " 774 779 780 782 783 786 787 789 790 791 792 793 795 799 800 805 809 812\n",
      " 815 816 818 819 820 822 823 826 827 828 829 831 833 834 835 836 839 840\n",
      " 843 844 847 848 851 853 854 855 857 858 860 861 862 863 865 866 870 874\n",
      " 875 876 877 878 879 881 883 884 885 886 887 892 895 900 901 902 905 908\n",
      " 911 912 916 918 919 920 923 927 928 929 930 931 933 935 937 939 940 942\n",
      " 943 944 950 951 955 958 960 964 966 967 969 970 971 976 979 982 984 986\n",
      " 987 988 990 992]\n"
     ]
    }
   ],
   "source": [
    "# Remove low confidence detections\n",
    "keep = np.intersect1d(keep, np.where(roi_scores >= config.DETECTION_MIN_CONFIDENCE)[0])\n",
    "print(\"Remove boxes below {} confidence. Keep {}:\\n{}\".format(\n",
    "    config.DETECTION_MIN_CONFIDENCE, keep.shape[0], keep))"
   ]
  },
  {
   "cell_type": "markdown",
   "metadata": {},
   "source": [
    "#### Per-Class Non-Max Suppression"
   ]
  },
  {
   "cell_type": "code",
   "execution_count": 114,
   "metadata": {},
   "outputs": [
    {
     "name": "stdout",
     "output_type": "stream",
     "text": [
      "neurons               : [  0   1   2   3   4   5   6   7   8   9  10  11  12  13  14  15  16  17\n",
      "  18  19  20  21  22  23  24  25  26  27  28  29  30  31  32  33  34  35\n",
      "  36  37  38  39  40  41  42  43  44  45  46  47  48  49  50  51  52  53\n",
      "  54  55  57  58  59  60  61  62  63  64  65  66  67  68  69  70  71  72\n",
      "  73  74  75  76  77  79  80  81  84  85  86  87  88  89  90  91  92  93\n",
      "  94  95  96  97  98  99 100 101 102 103 104 105 106 107 108 109 110 111\n",
      " 112 113 114 115 116 117 118 119 120 121 122 123 124 125 126 127 128 131\n",
      " 132 133 135 136 137 138 139 140 141 142 143 144 145 146 147 148 149 150\n",
      " 152 154 155 156 158 159 161 162 163 164 165 166 167 168 169 170 171 172\n",
      " 173 174 175 176 177 178 179 180 181 182 183 184 185 186 188 189 190 191\n",
      " 192 193 194 195 197 198 199 200 201 202 203 204 205 206 207 208 209 211\n",
      " 212 213 214 216 217 218 219 220 221 222 223 224 225 226 227 228 229 230\n",
      " 231 232 233 234 235 236 237 238 239 241 242 245 246 247 248 249 250 251\n",
      " 252 253 254 255 257 258 259 260 261 262 263 264 265 268 269 270 271 272\n",
      " 273 274 277 278 280 281 282 283 287 288 289 290 291 292 293 295 296 297\n",
      " 298 299 300 301 302 303 304 305 306 307 308 309 310 311 313 315 317 318\n",
      " 320 321 322 323 324 325 326 327 328 329 330 331 332 333 334 335 336 337\n",
      " 338 339 340 342 344 345 347 348 349 350 351 352 353 356 358 359 360 361\n",
      " 362 363 364 365 367 368 369 370 371 372 373 376 378 379 381 383 384 386\n",
      " 387 389 391 392 393 394 395 397 402 403 404 405 406 407 408 409 410 412\n",
      " 413 414 415 416 418 421 423 425 427 428 429 430 432 433 434 436 437 438\n",
      " 439 442 443 444 445 446 448 449 451 452 454 455 456 457 458 459 460 462\n",
      " 463 464 465 466 468 470 471 472 473 474 475 476 477 478 479 482 483 485\n",
      " 487 488 489 490 491 492 494 495 496 497 499 500 501 502 503 505 506 507\n",
      " 508 509 511 512 513 515 519 520 523 524 525 526 528 529 530 531 532 533\n",
      " 534 535 537 538 539 540 541 542 543 544 545 546 547 548 549 550 551 552\n",
      " 553 554 555 557 558 559 560 563 564 565 568 569 571 572 573 574 575 577\n",
      " 581 582 583 584 585 586 587 588 589 590 591 592 594 596 597 598 599 600\n",
      " 601 602 603 604 605 606 608 609 614 615 616 617 618 619 621 622 623 624\n",
      " 625 628 629 631 633 635 636 637 638 640 643 644 648 649 650 651 653 654\n",
      " 656 658 659 660 664 665 666 669 670 673 674 675 676 677 681 683 685 686\n",
      " 687 688 689 690 691 692 695 696 697 699 700 701 702 703 705 710 711 712\n",
      " 713 715 718 719 722 724 725 727 729 730 731 732 736 737 740 741 742 743\n",
      " 744 745 748 749 750 751 752 754 756 757 758 760 762 763 764 766 767 771\n",
      " 774 779 780 782 783 786 787 789 790 791 792 793 795 799 800 805 809 812\n",
      " 815 816 818 819 820 822 823 826 827 828 829 831 833 834 835 836 839 840\n",
      " 843 844 847 848 851 853 854 855 857 858 860 861 862 863 865 866 870 874\n",
      " 875 876 877 878 879 881 883 884 885 886 887 892 895 900 901 902 905 908\n",
      " 911 912 916 918 919 920 923 927 928 929 930 931 933 935 937 939 940 942\n",
      " 943 944 950 951 955 958 960 964 966 967 969 970 971 976 979 982 984 986\n",
      " 987 988 990 992] -> [691   3 228   9   5 270 532 213  53 226 194 558 295 629 473 283  90 427\n",
      " 884 601 410 737 604 349 470 594 113  57 908 713 577 310 492 633 591  87\n",
      "  86 356 911 379 791 208 252 494 437 833 876 756 131  46 676 617 141 538\n",
      " 530 597 793 406 545 762 853 298 327 189 448 505 935 414 792 729 282 848\n",
      " 173 108 533]\n",
      "\n",
      "Kept after per-class NMS: 75\n",
      "[  3   5   9  46  53  57  86  87  90 108 113 131 141 173 189 194 208 213\n",
      " 226 228 252 270 282 283 295 298 310 327 349 356 379 406 410 414 427 437\n",
      " 448 470 473 492 494 505 530 532 533 538 545 558 577 591 594 597 601 604\n",
      " 617 629 633 676 691 713 729 737 756 762 791 792 793 833 848 853 876 884\n",
      " 908 911 935]\n"
     ]
    }
   ],
   "source": [
    "# Apply per-class non-max suppression\n",
    "pre_nms_boxes = refined_proposals[keep]\n",
    "pre_nms_scores = roi_scores[keep]\n",
    "pre_nms_class_ids = roi_class_ids[keep]\n",
    "\n",
    "nms_keep = []\n",
    "for class_id in np.unique(pre_nms_class_ids):\n",
    "    # Pick detections of this class\n",
    "    ixs = np.where(pre_nms_class_ids == class_id)[0]\n",
    "    # Apply NMS\n",
    "    class_keep = utils.non_max_suppression(pre_nms_boxes[ixs], \n",
    "                                            pre_nms_scores[ixs],\n",
    "                                          config.DETECTION_NMS_THRESHOLD)\n",
    "    # Map indicies\n",
    "    class_keep = keep[ixs[class_keep]]\n",
    "    nms_keep = np.union1d(nms_keep, class_keep)\n",
    "    print(\"{:22}: {} -> {}\".format(dataset.class_names[class_id][:20], \n",
    "                                   keep[ixs], class_keep))\n",
    "\n",
    "keep = np.intersect1d(keep, nms_keep).astype(np.int32)\n",
    "print(\"\\nKept after per-class NMS: {}\\n{}\".format(keep.shape[0], keep))"
   ]
  },
  {
   "cell_type": "code",
   "execution_count": 113,
   "metadata": {},
   "outputs": [],
   "source": [
    "config.DETECTION_NMS_THRESHOLD=0.3"
   ]
  },
  {
   "cell_type": "code",
   "execution_count": 115,
   "metadata": {},
   "outputs": [],
   "source": [
    "# Show final detections\n",
    "ixs = np.arange(len(keep))  # Display all\n",
    "# ixs = np.random.randint(0, len(keep), 10)  # Display random sample\n",
    "captions = [\"{} {:.3f}\".format(dataset.class_names[c], s) if c > 0 else \"\"\n",
    "            for c, s in zip(roi_class_ids[keep][ixs], roi_scores[keep][ixs])]\n",
    "visualize.draw_boxes(\n",
    "    image, boxes=proposals[keep][ixs],\n",
    "    refined_boxes=refined_proposals[keep][ixs],\n",
    "    visibilities=np.where(roi_class_ids[keep][ixs] > 0, 1, 0),\n",
    "    captions=captions, title=\"Detections after NMS\",\n",
    "    ax=get_ax(),vmax=np.percentile(image, 95), cmap='gray')"
   ]
  },
  {
   "cell_type": "markdown",
   "metadata": {},
   "source": [
    "## Stage 3: Generating Masks\n",
    "\n",
    "This stage takes the detections (refined bounding boxes and class IDs) from the previous layer and runs the mask head to generate segmentation masks for every instance."
   ]
  },
  {
   "cell_type": "markdown",
   "metadata": {},
   "source": [
    "### 3.a Mask Targets\n",
    "\n",
    "These are the training targets for the mask branch"
   ]
  },
  {
   "cell_type": "code",
   "execution_count": 98,
   "metadata": {},
   "outputs": [],
   "source": [
    "display_images(np.transpose(gt_mask, [2, 0, 1]), cmap=\"Blues\")"
   ]
  },
  {
   "cell_type": "markdown",
   "metadata": {},
   "source": [
    "### 3.b Predicted Masks"
   ]
  },
  {
   "cell_type": "code",
   "execution_count": 28,
   "metadata": {},
   "outputs": [
    {
     "name": "stdout",
     "output_type": "stream",
     "text": [
      "detections               shape: (1, 100, 6)           min:    0.00000  max: 1010.00000\n",
      "masks                    shape: (1, 100, 28, 28, 2)   min:    0.00000  max:    1.00000\n",
      "4 detections: ['balloon' 'balloon' 'balloon' 'balloon']\n"
     ]
    }
   ],
   "source": [
    "# Get predictions of mask head\n",
    "mrcnn = model.run_graph([image], [\n",
    "    (\"detections\", model.keras_model.get_layer(\"mrcnn_detection\").output),\n",
    "    (\"masks\", model.keras_model.get_layer(\"mrcnn_mask\").output),\n",
    "])\n",
    "\n",
    "# Get detection class IDs. Trim zero padding.\n",
    "det_class_ids = mrcnn['detections'][0, :, 4].astype(np.int32)\n",
    "det_count = np.where(det_class_ids == 0)[0][0]\n",
    "det_class_ids = det_class_ids[:det_count]\n",
    "\n",
    "print(\"{} detections: {}\".format(\n",
    "    det_count, np.array(dataset.class_names)[det_class_ids]))"
   ]
  },
  {
   "cell_type": "code",
   "execution_count": 29,
   "metadata": {},
   "outputs": [
    {
     "name": "stdout",
     "output_type": "stream",
     "text": [
      "det_mask_specific        shape: (4, 28, 28)           min:    0.00000  max:    1.00000\n",
      "det_masks                shape: (4, 1024, 1024)       min:    0.00000  max:    1.00000\n"
     ]
    }
   ],
   "source": [
    "# Masks\n",
    "det_boxes = utils.denorm_boxes(mrcnn[\"detections\"][0, :, :4], image.shape[:2])\n",
    "det_mask_specific = np.array([mrcnn[\"masks\"][0, i, :, :, c] \n",
    "                              for i, c in enumerate(det_class_ids)])\n",
    "det_masks = np.array([utils.unmold_mask(m, det_boxes[i], image.shape)\n",
    "                      for i, m in enumerate(det_mask_specific)])\n",
    "log(\"det_mask_specific\", det_mask_specific)\n",
    "log(\"det_masks\", det_masks)"
   ]
  },
  {
   "cell_type": "code",
   "execution_count": 30,
   "metadata": {},
   "outputs": [
    {
     "data": {
      "image/png": "[encoded data removed]",
      "text/plain": [
       "<matplotlib.figure.Figure at 0x7fc348328b38>"
      ]
     },
     "metadata": {},
     "output_type": "display_data"
    }
   ],
   "source": [
    "display_images(det_mask_specific[:4] * 255, cmap=\"Blues\", interpolation=\"none\")"
   ]
  },
  {
   "cell_type": "code",
   "execution_count": 31,
   "metadata": {},
   "outputs": [
    {
     "data": {
      "image/png": "[encoded data removed]",
      "text/plain": [
       "<matplotlib.figure.Figure at 0x7fc3484677b8>"
      ]
     },
     "metadata": {},
     "output_type": "display_data"
    }
   ],
   "source": [
    "display_images(det_masks[:4] * 255, cmap=\"Blues\", interpolation=\"none\")"
   ]
  },
  {
   "cell_type": "markdown",
   "metadata": {},
   "source": [
    "## Visualize Activations\n",
    "\n",
    "In some cases it helps to look at the output from different layers and visualize them to catch issues and odd patterns."
   ]
  },
  {
   "cell_type": "code",
   "execution_count": 32,
   "metadata": {
    "scrolled": false
   },
   "outputs": [
    {
     "name": "stdout",
     "output_type": "stream",
     "text": [
      "input_image              shape: (1, 1024, 1024, 3)    min: -123.70000  max:  151.10001\n",
      "res2c_out                shape: (1, 256, 256, 256)    min:    0.00000  max:   30.27820\n",
      "res3c_out                shape: (1, 128, 128, 512)    min:    0.00000  max:   32.50589\n",
      "res4w_out                shape: (1, 64, 64, 1024)     min:    0.00000  max:   76.81063\n",
      "rpn_bbox                 shape: (1, 261888, 4)        min:   -7.21691  max:   89.27760\n",
      "roi                      shape: (1, 1000, 4)          min:    0.00000  max:    1.00000\n"
     ]
    }
   ],
   "source": [
    "# Get activations of a few sample layers\n",
    "activations = model.run_graph([image], [\n",
    "    (\"input_image\",        tf.identity(model.keras_model.get_layer(\"input_image\").output)),\n",
    "    (\"res2c_out\",          model.keras_model.get_layer(\"res2c_out\").output),\n",
    "    (\"res3c_out\",          model.keras_model.get_layer(\"res3c_out\").output),\n",
    "    (\"res4w_out\",          model.keras_model.get_layer(\"res4w_out\").output),  # for resnet100\n",
    "    (\"rpn_bbox\",           model.keras_model.get_layer(\"rpn_bbox\").output),\n",
    "    (\"roi\",                model.keras_model.get_layer(\"ROI\").output),\n",
    "])"
   ]
  },
  {
   "cell_type": "code",
   "execution_count": 33,
   "metadata": {},
   "outputs": [
    {
     "data": {
      "image/png": "[encoded data removed]",
      "text/plain": [
       "<matplotlib.figure.Figure at 0x7fc3485376a0>"
      ]
     },
     "metadata": {},
     "output_type": "display_data"
    }
   ],
   "source": [
    "# Input image (normalized)\n",
    "_ = plt.imshow(modellib.unmold_image(activations[\"input_image\"][0],config))"
   ]
  },
  {
   "cell_type": "code",
   "execution_count": 34,
   "metadata": {},
   "outputs": [
    {
     "data": {
      "image/png": "[encoded data removed]",
      "text/plain": [
       "<matplotlib.figure.Figure at 0x7fc3485bb470>"
      ]
     },
     "metadata": {},
     "output_type": "display_data"
    }
   ],
   "source": [
    "# Backbone feature map\n",
    "display_images(np.transpose(activations[\"res2c_out\"][0,:,:,:4], [2, 0, 1]), cols=4)"
   ]
  },
  {
   "cell_type": "code",
   "execution_count": null,
   "metadata": {},
   "outputs": [],
   "source": []
  }
 ],
 "metadata": {
  "kernelspec": {
   "display_name": "Python 3",
   "language": "python",
   "name": "python3"
  },
  "language_info": {
   "codemirror_mode": {
    "name": "ipython",
    "version": 3
   },
   "file_extension": ".py",
   "mimetype": "text/x-python",
   "name": "python",
   "nbconvert_exporter": "python",
   "pygments_lexer": "ipython3",
   "version": "3.7.3"
  }
 },
 "nbformat": 4,
 "nbformat_minor": 2
}
